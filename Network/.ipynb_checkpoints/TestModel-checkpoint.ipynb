{
 "cells": [
  {
   "cell_type": "markdown",
   "metadata": {},
   "source": [
    "# Imports"
   ]
  },
  {
   "cell_type": "code",
   "execution_count": 1,
   "metadata": {},
   "outputs": [
    {
     "name": "stdout",
     "output_type": "stream",
     "text": [
      "Device in use: cuda:0\n"
     ]
    },
    {
     "ename": "FileNotFoundError",
     "evalue": "[WinError 3] The system cannot find the path specified: 'WindTurbineImagesCategorization\\\\Data\\\\Dataset'",
     "output_type": "error",
     "traceback": [
      "\u001b[1;31m---------------------------------------------------------------------------\u001b[0m",
      "\u001b[1;31mFileNotFoundError\u001b[0m                         Traceback (most recent call last)",
      "Cell \u001b[1;32mIn[1], line 10\u001b[0m\n\u001b[0;32m      8\u001b[0m \u001b[38;5;66;03m# from Dataset import MyDataset\u001b[39;00m\n\u001b[0;32m      9\u001b[0m \u001b[38;5;28;01mfrom\u001b[39;00m \u001b[38;5;21;01mtqdm\u001b[39;00m \u001b[38;5;28;01mimport\u001b[39;00m tqdm\n\u001b[1;32m---> 10\u001b[0m \u001b[38;5;28;01mfrom\u001b[39;00m \u001b[38;5;21;01mMyNetwork\u001b[39;00m \u001b[38;5;28;01mimport\u001b[39;00m MyNetwork\n\u001b[0;32m     11\u001b[0m \u001b[38;5;28;01mimport\u001b[39;00m \u001b[38;5;21;01mos\u001b[39;00m\n\u001b[0;32m     12\u001b[0m \u001b[38;5;28;01mimport\u001b[39;00m \u001b[38;5;21;01msys\u001b[39;00m\n",
      "File \u001b[1;32mc:\\Users\\jacop\\Desktop\\BSc\\Code\\WindTurbineImagesCategorization\\Network\\MyNetwork.py:229\u001b[0m\n\u001b[0;32m    213\u001b[0m hyper_parameters \u001b[38;5;241m=\u001b[39m {\n\u001b[0;32m    214\u001b[0m     \u001b[38;5;124m\"\u001b[39m\u001b[38;5;124minput channels\u001b[39m\u001b[38;5;124m\"\u001b[39m: \u001b[38;5;241m3\u001b[39m,\n\u001b[0;32m    215\u001b[0m     \u001b[38;5;124m\"\u001b[39m\u001b[38;5;124mnumber of classes\u001b[39m\u001b[38;5;124m\"\u001b[39m: \u001b[38;5;241m5\u001b[39m,\n\u001b[1;32m   (...)\u001b[0m\n\u001b[0;32m    224\u001b[0m     \u001b[38;5;124m\"\u001b[39m\u001b[38;5;124mweight_decay\u001b[39m\u001b[38;5;124m\"\u001b[39m: \u001b[38;5;241m1e-08\u001b[39m\n\u001b[0;32m    225\u001b[0m }\n\u001b[0;32m    228\u001b[0m \u001b[38;5;66;03m# Create Datasets and Dataloaders\u001b[39;00m\n\u001b[1;32m--> 229\u001b[0m dataset_train \u001b[38;5;241m=\u001b[39m MyDataset(root_directory\u001b[38;5;241m=\u001b[39mROOT_DIRTECTORY, mode\u001b[38;5;241m=\u001b[39m\u001b[38;5;124m\"\u001b[39m\u001b[38;5;124mtrain\u001b[39m\u001b[38;5;124m\"\u001b[39m, transform\u001b[38;5;241m=\u001b[39mtransform, split\u001b[38;5;241m=\u001b[39mhyper_parameters[\u001b[38;5;124m\"\u001b[39m\u001b[38;5;124msplit\u001b[39m\u001b[38;5;124m\"\u001b[39m])\n\u001b[0;32m    230\u001b[0m \u001b[38;5;28mprint\u001b[39m(\u001b[38;5;124mf\u001b[39m\u001b[38;5;124m\"\u001b[39m\u001b[38;5;124mCreated a new Dataset for training of length: \u001b[39m\u001b[38;5;132;01m{\u001b[39;00m\u001b[38;5;28mlen\u001b[39m(dataset_train)\u001b[38;5;132;01m}\u001b[39;00m\u001b[38;5;124m\"\u001b[39m)\n\u001b[0;32m    231\u001b[0m dataset_validation \u001b[38;5;241m=\u001b[39m MyDataset(root_directory\u001b[38;5;241m=\u001b[39mROOT_DIRTECTORY, mode\u001b[38;5;241m=\u001b[39m\u001b[38;5;124m\"\u001b[39m\u001b[38;5;124mval\u001b[39m\u001b[38;5;124m\"\u001b[39m, transform\u001b[38;5;241m=\u001b[39m\u001b[38;5;28;01mNone\u001b[39;00m, split\u001b[38;5;241m=\u001b[39mhyper_parameters[\u001b[38;5;124m\"\u001b[39m\u001b[38;5;124msplit\u001b[39m\u001b[38;5;124m\"\u001b[39m])\n",
      "File \u001b[1;32mc:\\Users\\jacop\\Desktop\\BSc\\Code\\WindTurbineImagesCategorization\\Network\\Dataset.py:31\u001b[0m, in \u001b[0;36mMyDataset.__init__\u001b[1;34m(self, root_directory, transform, mode, limit_files, split, *args, **kwargs)\u001b[0m\n\u001b[0;32m     27\u001b[0m \u001b[38;5;28mself\u001b[39m\u001b[38;5;241m.\u001b[39mlimit_files \u001b[38;5;241m=\u001b[39m limit_files\n\u001b[0;32m     28\u001b[0m \u001b[38;5;28mself\u001b[39m\u001b[38;5;241m.\u001b[39msplit \u001b[38;5;241m=\u001b[39m split\n\u001b[1;32m---> 31\u001b[0m \u001b[38;5;28mself\u001b[39m\u001b[38;5;241m.\u001b[39mclasses, \u001b[38;5;28mself\u001b[39m\u001b[38;5;241m.\u001b[39mclass_to_idx \u001b[38;5;241m=\u001b[39m \u001b[38;5;28mself\u001b[39m\u001b[38;5;241m.\u001b[39m_find_classes(\u001b[38;5;28mself\u001b[39m\u001b[38;5;241m.\u001b[39mroot_directory)\n\u001b[0;32m     33\u001b[0m \u001b[38;5;28mself\u001b[39m\u001b[38;5;241m.\u001b[39mimages, \u001b[38;5;28mself\u001b[39m\u001b[38;5;241m.\u001b[39mlabels \u001b[38;5;241m=\u001b[39m \u001b[38;5;28mself\u001b[39m\u001b[38;5;241m.\u001b[39mmake_dataset(\n\u001b[0;32m     34\u001b[0m     directory\u001b[38;5;241m=\u001b[39m\u001b[38;5;28mself\u001b[39m\u001b[38;5;241m.\u001b[39mroot_directory,\n\u001b[0;32m     35\u001b[0m     class_to_idx\u001b[38;5;241m=\u001b[39m\u001b[38;5;28mself\u001b[39m\u001b[38;5;241m.\u001b[39mclass_to_idx,\n\u001b[0;32m     36\u001b[0m     mode\u001b[38;5;241m=\u001b[39mmode,\n\u001b[0;32m     37\u001b[0m )\n\u001b[0;32m     39\u001b[0m \u001b[38;5;66;03m# mean, std = calculate_mean_and_std(self.root_directory) hardcoded for speed\u001b[39;00m\n",
      "File \u001b[1;32mc:\\Users\\jacop\\Desktop\\BSc\\Code\\WindTurbineImagesCategorization\\Network\\Dataset.py:56\u001b[0m, in \u001b[0;36mMyDataset._find_classes\u001b[1;34m(directory)\u001b[0m\n\u001b[0;32m     47\u001b[0m \u001b[38;5;129m@staticmethod\u001b[39m\n\u001b[0;32m     48\u001b[0m \u001b[38;5;28;01mdef\u001b[39;00m \u001b[38;5;21m_find_classes\u001b[39m(directory):\n\u001b[0;32m     49\u001b[0m \u001b[38;5;250m    \u001b[39m\u001b[38;5;124;03m\"\"\"\u001b[39;00m\n\u001b[0;32m     50\u001b[0m \u001b[38;5;124;03m    Finds the class folders in a dataset\u001b[39;00m\n\u001b[0;32m     51\u001b[0m \u001b[38;5;124;03m    :param directory: root directory of the dataset\u001b[39;00m\n\u001b[1;32m   (...)\u001b[0m\n\u001b[0;32m     54\u001b[0m \u001b[38;5;124;03m      - class_to_idx is a dict that maps class to label\u001b[39;00m\n\u001b[0;32m     55\u001b[0m \u001b[38;5;124;03m    \"\"\"\u001b[39;00m\n\u001b[1;32m---> 56\u001b[0m     classes \u001b[38;5;241m=\u001b[39m [folder\u001b[38;5;241m.\u001b[39mname \u001b[38;5;28;01mfor\u001b[39;00m folder \u001b[38;5;129;01min\u001b[39;00m os\u001b[38;5;241m.\u001b[39mscandir(directory) \u001b[38;5;28;01mif\u001b[39;00m folder\u001b[38;5;241m.\u001b[39mis_dir()]\n\u001b[0;32m     57\u001b[0m     classes\u001b[38;5;241m.\u001b[39msort()\n\u001b[0;32m     58\u001b[0m     class_to_idx \u001b[38;5;241m=\u001b[39m {classes[i]: i\u001b[38;5;241m+\u001b[39m\u001b[38;5;241m1\u001b[39m \u001b[38;5;28;01mfor\u001b[39;00m i \u001b[38;5;129;01min\u001b[39;00m \u001b[38;5;28mrange\u001b[39m(\u001b[38;5;28mlen\u001b[39m(classes))} \u001b[38;5;66;03m# Changed the index to start from 1 as actual labels\u001b[39;00m\n",
      "\u001b[1;31mFileNotFoundError\u001b[0m: [WinError 3] The system cannot find the path specified: 'WindTurbineImagesCategorization\\\\Data\\\\Dataset'"
     ]
    }
   ],
   "source": [
    "import torch\n",
    "import torch.nn as nn\n",
    "import torch.optim as optim\n",
    "import torch.nn.init as init\n",
    "import numpy as np\n",
    "from torchvision.transforms import v2 as transformsV2\n",
    "from torch.utils.data import DataLoader\n",
    "# from Dataset import MyDataset\n",
    "from tqdm import tqdm\n",
    "from MyNetwork import MyNetwork\n",
    "import os\n",
    "import sys\n",
    "\n",
    "# # current_dir = os.path.dirname(os.path.abspath(__file__))\n",
    "# current_dir = os.getcwd()\n",
    "# parent_dir = os.path.dirname(current_dir)\n",
    "# sys.path.append(parent_dir)\n",
    "# sys.path.append(\"WindTurbineImagesCategorization\\\\Network\\\\Dataset.py\")  # path contains python_file.py\n",
    "\n",
    "from Dataset import MyDataset\n"
   ]
  },
  {
   "cell_type": "markdown",
   "metadata": {},
   "source": [
    "# DEFINITIONS"
   ]
  },
  {
   "cell_type": "code",
   "execution_count": null,
   "metadata": {},
   "outputs": [
    {
     "name": "stdout",
     "output_type": "stream",
     "text": [
      "Device in use: cuda:0\n"
     ]
    }
   ],
   "source": [
    "MEAN = np.array([0.5750, 0.6065, 0.6459])\n",
    "STD = np.array([0.1854, 0.1748, 0.1794])\n",
    "ROOT_DIRTECTORY = \"WindTurbineImagesCategorization\\\\Data\\\\Dataset\"\n",
    "DEVICE = torch.device(\"cuda:0\" if torch.cuda.is_available() else \"cpu\")\n",
    "print(f\"Device in use: {DEVICE}\")"
   ]
  },
  {
   "cell_type": "markdown",
   "metadata": {},
   "source": [
    "# HELPER FUNCTIONS"
   ]
  },
  {
   "cell_type": "code",
   "execution_count": null,
   "metadata": {},
   "outputs": [],
   "source": [
    "# TODO: Look up this function in the documentation\n",
    "def create_tqdm_bar(iterable, desc):\n",
    "    return tqdm(enumerate(iterable), total=len(iterable), ncols=150, desc=desc)"
   ]
  },
  {
   "cell_type": "markdown",
   "metadata": {},
   "source": [
    "# TRANSFORMS"
   ]
  },
  {
   "cell_type": "code",
   "execution_count": null,
   "metadata": {},
   "outputs": [],
   "source": [
    "transform = transformsV2.Compose([\n",
    "    transformsV2.Resize((224, 224)),\n",
    "    transformsV2.RandomHorizontalFlip(p=0.5),\n",
    "    transformsV2.RandomVerticalFlip(p=0.5),\n",
    "    transformsV2.RandomAdjustSharpness(sharpness_factor=2, p=0.5),\n",
    "    transformsV2.RandomAutocontrast(p=0.5),  \n",
    "    transformsV2.RandomRotation(degrees=[0, 90]),\n",
    "    transformsV2.ColorJitter(brightness=0.25, saturation=0.20),\n",
    "    transformsV2.ToImage(),                          # Replace deprecated ToTensor()    \n",
    "    transformsV2.ToDtype(torch.float32, scale=True), # Replace deprecated ToTensor() \n",
    "    transformsV2.Normalize(mean=MEAN.tolist(), std=STD.tolist()),\n",
    "    ]) "
   ]
  },
  {
   "cell_type": "markdown",
   "metadata": {},
   "source": [
    "# HYPER PARAMETERS"
   ]
  },
  {
   "cell_type": "code",
   "execution_count": null,
   "metadata": {},
   "outputs": [],
   "source": [
    "hyper_parameters = {\n",
    "    \"input channels\": 3,\n",
    "    \"number of classes\": 5,\n",
    "    \"split\": {\"train\": 0.6, \"val\": 0.2, \"test\": 0.2},\n",
    "    \"batch size\": 16,\n",
    "    \"number of workers\": 0,\n",
    "    \"learning rate\": 0.001,\n",
    "    \"epochs\": 10,\n",
    "    \"beta1\": 0.9,\n",
    "    \"beta2\": 0.999,\n",
    "    \"epsilon\": 1e-08,\n",
    "    \"weight_decay\": 1e-08\n",
    "}"
   ]
  },
  {
   "cell_type": "markdown",
   "metadata": {},
   "source": [
    "# DATASETS AND DATALOADERS"
   ]
  },
  {
   "cell_type": "code",
   "execution_count": 2,
   "metadata": {},
   "outputs": [
    {
     "ename": "NameError",
     "evalue": "name 'MyDataset' is not defined",
     "output_type": "error",
     "traceback": [
      "\u001b[1;31m---------------------------------------------------------------------------\u001b[0m",
      "\u001b[1;31mNameError\u001b[0m                                 Traceback (most recent call last)",
      "Cell \u001b[1;32mIn[2], line 2\u001b[0m\n\u001b[0;32m      1\u001b[0m \u001b[38;5;66;03m# Create Datasets and Dataloaders\u001b[39;00m\n\u001b[1;32m----> 2\u001b[0m dataset_train \u001b[38;5;241m=\u001b[39m MyDataset(root_directory\u001b[38;5;241m=\u001b[39mROOT_DIRTECTORY, mode\u001b[38;5;241m=\u001b[39m\u001b[38;5;124m\"\u001b[39m\u001b[38;5;124mtrain\u001b[39m\u001b[38;5;124m\"\u001b[39m, transform\u001b[38;5;241m=\u001b[39mtransform, split\u001b[38;5;241m=\u001b[39mhyper_parameters[\u001b[38;5;124m\"\u001b[39m\u001b[38;5;124msplit\u001b[39m\u001b[38;5;124m\"\u001b[39m])\n\u001b[0;32m      3\u001b[0m \u001b[38;5;28mprint\u001b[39m(\u001b[38;5;124mf\u001b[39m\u001b[38;5;124m\"\u001b[39m\u001b[38;5;124mCreated a new Dataset for training of length: \u001b[39m\u001b[38;5;132;01m{\u001b[39;00m\u001b[38;5;28mlen\u001b[39m(dataset_train)\u001b[38;5;132;01m}\u001b[39;00m\u001b[38;5;124m\"\u001b[39m)\n\u001b[0;32m      4\u001b[0m dataset_validation \u001b[38;5;241m=\u001b[39m MyDataset(root_directory\u001b[38;5;241m=\u001b[39mROOT_DIRTECTORY, mode\u001b[38;5;241m=\u001b[39m\u001b[38;5;124m\"\u001b[39m\u001b[38;5;124mval\u001b[39m\u001b[38;5;124m\"\u001b[39m, transform\u001b[38;5;241m=\u001b[39m\u001b[38;5;28;01mNone\u001b[39;00m, split\u001b[38;5;241m=\u001b[39mhyper_parameters[\u001b[38;5;124m\"\u001b[39m\u001b[38;5;124msplit\u001b[39m\u001b[38;5;124m\"\u001b[39m])\n",
      "\u001b[1;31mNameError\u001b[0m: name 'MyDataset' is not defined"
     ]
    }
   ],
   "source": [
    "# Create Datasets and Dataloaders\n",
    "dataset_train = MyDataset(root_directory=ROOT_DIRTECTORY, mode=\"train\", transform=transform, split=hyper_parameters[\"split\"])\n",
    "print(f\"Created a new Dataset for training of length: {len(dataset_train)}\")\n",
    "dataset_validation = MyDataset(root_directory=ROOT_DIRTECTORY, mode=\"val\", transform=None, split=hyper_parameters[\"split\"])\n",
    "print(f\"Created a new Dataset for validation of length: {len(dataset_validation)}\")\n",
    "\n",
    "dataloader_train = DataLoader(dataset_train, batch_size=hyper_parameters[\"batch size\"], shuffle=True, num_workers=hyper_parameters[\"number of workers\"], drop_last=False)\n",
    "print(f\"Created a new Dataloader for training with batch size: {hyper_parameters[\"batch size\"]}\")\n",
    "# dataloader_validation = DataLoader(dataset_validation, batch_size=hyper_parameters[\"batch size\"], shuffle=True, num_workers=hyper_parameters[\"number of workers\"], drop_last=False)\n",
    "dataloader_validation = DataLoader(dataset_validation, batch_size=1, shuffle=False, num_workers=hyper_parameters[\"number of workers\"], drop_last=False)\n",
    "print(f\"Created a new Dataloader for validation with batch size: {hyper_parameters[\"batch size\"]}\")"
   ]
  },
  {
   "cell_type": "markdown",
   "metadata": {},
   "source": [
    "# MODEL CREATION"
   ]
  },
  {
   "cell_type": "code",
   "execution_count": null,
   "metadata": {},
   "outputs": [],
   "source": [
    "# Create Model, initialize its weights, create optimizer and loss function\n",
    "model = MyNetwork(hyper_parameters)\n",
    "model.weight_initialization()\n",
    "model.to(DEVICE)\n",
    "print(f\"Model created, move to {DEVICE} and weights initialized\")\n",
    "\n",
    "optimizer = optim.Adam(model.parameters(), \n",
    "                       lr=hyper_parameters[\"learning rate\"], \n",
    "                       betas=(hyper_parameters[\"beta1\"], hyper_parameters[\"beta2\"]), \n",
    "                       weight_decay=hyper_parameters[\"weight_decay\"], \n",
    "                       eps=hyper_parameters[\"epsilon\"])\n",
    "loss_function = nn.CrossEntropyLoss()\n",
    "\n",
    "# Empty memory before start\n",
    "if torch.cuda.is_available():\n",
    "    torch.cuda.empty_cache()"
   ]
  }
 ],
 "metadata": {
  "kernelspec": {
   "display_name": "TurbineModel",
   "language": "python",
   "name": "python3"
  },
  "language_info": {
   "codemirror_mode": {
    "name": "ipython",
    "version": 3
   },
   "file_extension": ".py",
   "mimetype": "text/x-python",
   "name": "python",
   "nbconvert_exporter": "python",
   "pygments_lexer": "ipython3",
   "version": "3.12.2"
  }
 },
 "nbformat": 4,
 "nbformat_minor": 2
}
