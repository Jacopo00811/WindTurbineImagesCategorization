{
 "cells": [
  {
   "cell_type": "code",
   "execution_count": 1,
   "metadata": {},
   "outputs": [],
   "source": [
    "import torch\n",
    "import torch.nn as nn\n",
    "import torch.optim as optim\n",
    "import numpy as np\n",
    "from torchvision.transforms import v2 as transformsV2\n",
    "from torch.utils.data import DataLoader\n",
    "from Dataset import MyDataset\n",
    "from tqdm import tqdm\n",
    "from Network import MyNetwork\n",
    "import os\n",
    "from torch.utils.tensorboard.writer import SummaryWriter\n",
    "import itertools\n",
    "import random\n",
    "\n",
    "%load_ext autoreload\n",
    "%autoreload 2\n",
    "\n",
    "os.environ['KMP_DUPLICATE_LIB_OK']='True' # To prevent the kernel from dying"
   ]
  },
  {
   "cell_type": "code",
   "execution_count": 2,
   "metadata": {},
   "outputs": [
    {
     "name": "stdout",
     "output_type": "stream",
     "text": [
      "Device in use: cuda:0\n"
     ]
    }
   ],
   "source": [
    "MEAN = np.array([0.5750, 0.6065, 0.6459])\n",
    "STD = np.array([0.1854, 0.1748, 0.1794])\n",
    "ROOT_DIRTECTORY = \"c:\\\\Users\\\\jacop\\\\Desktop\\\\BSc\\\\Code\\\\WindTurbineImagesCategorization\\\\Data\\\\Dataset\"\n",
    "DEVICE = torch.device(\"cuda:0\" if torch.cuda.is_available() else \"cpu\")\n",
    "print(f\"Device in use: {DEVICE}\")\n",
    "hyper_parameters = {\n",
    "    \"input channels\": 3,\n",
    "    \"number of classes\": 5,\n",
    "    \"split\": {\"train\": 0.6, \"val\": 0.2, \"test\": 0.2},\n",
    "    \"batch size\": 32,\n",
    "    \"number of workers\": 0,\n",
    "    \"epochs\": 30,\n",
    "    \"epsilon\": 1e-08,\n",
    "    \"weight decay\": 1e-08,\n",
    "}"
   ]
  },
  {
   "cell_type": "code",
   "execution_count": 3,
   "metadata": {},
   "outputs": [],
   "source": [
    "logs_dir = 'runs'\n",
    "os.makedirs(logs_dir, exist_ok=True)\n",
    "num_of_runs = len(os.listdir(logs_dir))\n",
    "run_dir = os.path.join(logs_dir, f'run_')"
   ]
  },
  {
   "cell_type": "code",
   "execution_count": 4,
   "metadata": {},
   "outputs": [],
   "source": [
    "def create_tqdm_bar(iterable, desc):\n",
    "    return tqdm(enumerate(iterable), total=len(iterable), ncols=150, desc=desc)"
   ]
  },
  {
   "cell_type": "code",
   "execution_count": 5,
   "metadata": {},
   "outputs": [],
   "source": [
    "transform = transformsV2.Compose([\n",
    "    transformsV2.Resize((224, 224)),\n",
    "    transformsV2.RandomHorizontalFlip(p=0.5),\n",
    "    transformsV2.RandomVerticalFlip(p=0.5),\n",
    "    transformsV2.RandomAdjustSharpness(sharpness_factor=2, p=0.5),\n",
    "    transformsV2.RandomAutocontrast(p=0.5),\n",
    "    transformsV2.RandomRotation(degrees=[0, 90]),\n",
    "    transformsV2.ColorJitter(brightness=0.25, saturation=0.20),\n",
    "    # Replace deprecated ToTensor()\n",
    "    transformsV2.ToImage(),\n",
    "    transformsV2.ToDtype(torch.float32, scale=True),\n",
    "    transformsV2.Normalize(mean=MEAN.tolist(), std=STD.tolist()),\n",
    "])"
   ]
  },
  {
   "cell_type": "code",
   "execution_count": 6,
   "metadata": {},
   "outputs": [],
   "source": [
    "# def train_classifier(classifier, train_loader, val_loader, loss_func, tb_logger, epochs=10, name=\"default\"):\n",
    "def train_net(model, loss_function, device, dataloader_train, optimizer, hyper_parameters, logger, scheduler, name=\"default\"):\n",
    "    epochs = hyper_parameters[\"epochs\"]\n",
    "\n",
    "    validation_loss = 0\n",
    "    for epoch in range(epochs):  # loop over the dataset multiple times\n",
    "\n",
    "        \"\"\"    Train step for one batch of data    \"\"\"\n",
    "        training_loop = create_tqdm_bar(\n",
    "            dataloader_train, desc=f'Training Epoch [{epoch+1}/{epochs}]')\n",
    "\n",
    "        training_loss = 0\n",
    "        for train_iteration, batch in training_loop:\n",
    "            model.train()  # Set the model to training mode\n",
    "            optimizer.zero_grad()  # Reset the parameter gradients for the current minibatch iteration\n",
    "\n",
    "            images, labels = batch\n",
    "            labels -= 1  # Change the labels to start from 0\n",
    "            labels = labels.type(torch.LongTensor)\n",
    "\n",
    "            labels = labels.to(device)\n",
    "            images = images.to(device)\n",
    "\n",
    "            # Forward pass, backward pass and optimizer step\n",
    "            predicted_labels = model(images)\n",
    "            loss_train = loss_function(predicted_labels, labels)\n",
    "            loss_train.backward()\n",
    "            optimizer.step()\n",
    "\n",
    "            # Accumulate the loss and calculate the accuracy of predictions\n",
    "            training_loss += loss_train.item()\n",
    "\n",
    "            # Running train accuracy\n",
    "            _, predicted = predicted_labels.max(1)\n",
    "            num_correct = (predicted == labels).sum()\n",
    "            train_accuracy = float(num_correct)/float(images.shape[0])\n",
    "\n",
    "            training_loop.set_postfix(train_loss=\"{:.8f}\".format(\n",
    "                training_loss / (train_iteration + 1)), val_loss=\"{:.8f}\".format(validation_loss))\n",
    "            # logger.add_scalar(f'{name}/train_loss', loss_train.item(),\n",
    "            #                   (epoch * len(dataloader_train)) + train_iteration)\n",
    "\n",
    "        logger.add_scalar(f'{name}/train_loss',\n",
    "                          training_loss / len(dataloader_train), epoch)\n",
    "        logger.add_scalar(f'{name}/train_accuracy', train_accuracy, epoch)\n",
    "\n",
    "        scheduler.step()\n",
    "        print(scheduler.get_last_lr())"
   ]
  },
  {
   "cell_type": "code",
   "execution_count": 7,
   "metadata": {},
   "outputs": [],
   "source": [
    "def validate_model(model, loss_function, device, dataloader_validation):\n",
    "    model.eval()  # Set model to evaluation mode\n",
    "    total_loss = 0\n",
    "\n",
    "    with torch.no_grad():\n",
    "        for _, batch in enumerate(dataloader_validation):\n",
    "            images, labels = batch\n",
    "            labels -= 1  # Change the labels to start from 0\n",
    "            labels = labels.type(torch.LongTensor)\n",
    "\n",
    "            images = images.to(device)\n",
    "            labels = labels.to(device)\n",
    "\n",
    "            # Forward pass\n",
    "            output = model(images)\n",
    "            loss = loss_function(output, labels)\n",
    "            total_loss += loss.item()\n",
    "\n",
    "    return total_loss / len(dataloader_validation)"
   ]
  },
  {
   "cell_type": "code",
   "execution_count": 8,
   "metadata": {},
   "outputs": [],
   "source": [
    "# Function to create all combinations of hyperparameters\n",
    "def create_combinations(hyperparameter_grid):\n",
    "    keys, values = zip(*hyperparameter_grid.items())\n",
    "    return [dict(zip(keys, v)) for v in itertools.product(*values)]\n",
    "\n",
    "# Function to randomly sample hyperparameters\n",
    "\n",
    "\n",
    "def sample_hyperparameters(hyperparameter_grid, num_samples):\n",
    "    samples = []\n",
    "    for _ in range(num_samples):\n",
    "        sample = {}\n",
    "        for key, values in hyperparameter_grid.items():\n",
    "            sample[key] = random.choice(values)\n",
    "        samples.append(sample)\n",
    "    return samples"
   ]
  },
  {
   "cell_type": "code",
   "execution_count": 9,
   "metadata": {},
   "outputs": [],
   "source": [
    "# Define your hyperparameter grid\n",
    "hyperparameter_grid = {\n",
    "    'learning rate': [0.0002, 0.0004, 0.0006],\n",
    "    'beta1': [0.9],\n",
    "    'beta2': [0.999],\n",
    "    'step size': [10],\n",
    "    'gamma': [0.8, 0.9],\n",
    "}"
   ]
  },
  {
   "cell_type": "code",
   "execution_count": 10,
   "metadata": {},
   "outputs": [],
   "source": [
    "def hyperparameter_search(loss_function, device, dataloader_train, dataloader_validation, hyperparameter_grid, missing_hp):\n",
    "    # Initialize with a large value for minimization problems\n",
    "    best_performance = float('inf')\n",
    "    best_hyperparameters = None\n",
    "    run_counter = 0\n",
    "    for hyper_parameters in hyperparameter_grid:\n",
    "        # Empty memory before start\n",
    "        if torch.cuda.is_available():\n",
    "            torch.cuda.empty_cache()\n",
    "\n",
    "        print(hyper_parameters)\n",
    "        hyper_parameters.update(missing_hp)\n",
    "        # Initialize model, optimizer, scheduler, logger\n",
    "\n",
    "        model = MyNetwork(hyper_parameters)\n",
    "        model.weight_initialization()\n",
    "        model.to(DEVICE)\n",
    "\n",
    "        optimizer = optim.Adam(model.parameters(),\n",
    "                               lr=hyper_parameters[\"learning rate\"],\n",
    "                               betas=(hyper_parameters[\"beta1\"],\n",
    "                                      hyper_parameters[\"beta2\"]),\n",
    "                               weight_decay=hyper_parameters[\"weight decay\"],\n",
    "                               eps=hyper_parameters[\"epsilon\"])\n",
    "\n",
    "        scheduler = torch.optim.lr_scheduler.StepLR(\n",
    "            optimizer, step_size=hyper_parameters[\"step size\"], gamma=hyper_parameters[\"gamma\"])\n",
    "\n",
    "        logger = SummaryWriter(run_dir+\"V4_\"+str(run_counter),\n",
    "                               comment=f'LR_{hyper_parameters[\"learning rate\"]}')\n",
    "\n",
    "        # Train the model\n",
    "        train_net(model, loss_function, device, dataloader_train,\n",
    "                  optimizer, hyper_parameters, logger, scheduler, name=\"MyNetV4\")\n",
    "\n",
    "        run_counter += 1\n",
    "        # Evaluate model performance using validation set\n",
    "        # Here, we're using validation loss as the performance metric\n",
    "        validation_loss = validate_model(\n",
    "            model, loss_function, device, dataloader_validation)\n",
    "\n",
    "        # Update best hyperparameters if the current model has better performance\n",
    "        if validation_loss < best_performance:\n",
    "            best_performance = validation_loss\n",
    "            best_hyperparameters = hyper_parameters\n",
    "\n",
    "        logger.close()\n",
    "\n",
    "    return best_hyperparameters"
   ]
  },
  {
   "cell_type": "code",
   "execution_count": 11,
   "metadata": {},
   "outputs": [
    {
     "name": "stdout",
     "output_type": "stream",
     "text": [
      "Created a new Dataset for training of length: 1320\n",
      "Created a new Dataset for validation of length: 440\n",
      "Created a new Dataloader for training with batch size: 32\n",
      "Created a new Dataloader for validation with batch size: 32\n",
      "{'learning rate': 0.0002, 'beta1': 0.9, 'beta2': 0.999, 'step size': 10, 'gamma': 0.8}\n"
     ]
    },
    {
     "name": "stderr",
     "output_type": "stream",
     "text": [
      "Training Epoch [1/30]: 100%|█████████████████████████████████████████████| 42/42 [00:21<00:00,  2.00it/s, train_loss=13.89489201, val_loss=0.00000000]\n"
     ]
    },
    {
     "name": "stdout",
     "output_type": "stream",
     "text": [
      "[0.0002]\n"
     ]
    },
    {
     "name": "stderr",
     "output_type": "stream",
     "text": [
      "Training Epoch [2/30]: 100%|██████████████████████████████████████████████| 42/42 [00:20<00:00,  2.03it/s, train_loss=4.42253762, val_loss=0.00000000]\n"
     ]
    },
    {
     "name": "stdout",
     "output_type": "stream",
     "text": [
      "[0.0002]\n"
     ]
    },
    {
     "name": "stderr",
     "output_type": "stream",
     "text": [
      "Training Epoch [3/30]: 100%|██████████████████████████████████████████████| 42/42 [00:20<00:00,  2.03it/s, train_loss=2.40872746, val_loss=0.00000000]\n"
     ]
    },
    {
     "name": "stdout",
     "output_type": "stream",
     "text": [
      "[0.0002]\n"
     ]
    },
    {
     "name": "stderr",
     "output_type": "stream",
     "text": [
      "Training Epoch [4/30]: 100%|██████████████████████████████████████████████| 42/42 [00:20<00:00,  2.03it/s, train_loss=1.81133371, val_loss=0.00000000]\n"
     ]
    },
    {
     "name": "stdout",
     "output_type": "stream",
     "text": [
      "[0.0002]\n"
     ]
    },
    {
     "name": "stderr",
     "output_type": "stream",
     "text": [
      "Training Epoch [5/30]: 100%|██████████████████████████████████████████████| 42/42 [00:20<00:00,  2.04it/s, train_loss=1.68768628, val_loss=0.00000000]\n"
     ]
    },
    {
     "name": "stdout",
     "output_type": "stream",
     "text": [
      "[0.0002]\n"
     ]
    },
    {
     "name": "stderr",
     "output_type": "stream",
     "text": [
      "Training Epoch [6/30]: 100%|██████████████████████████████████████████████| 42/42 [00:20<00:00,  2.04it/s, train_loss=1.65230794, val_loss=0.00000000]\n"
     ]
    },
    {
     "name": "stdout",
     "output_type": "stream",
     "text": [
      "[0.0002]\n"
     ]
    },
    {
     "name": "stderr",
     "output_type": "stream",
     "text": [
      "Training Epoch [7/30]: 100%|██████████████████████████████████████████████| 42/42 [00:20<00:00,  2.04it/s, train_loss=1.60377806, val_loss=0.00000000]\n"
     ]
    },
    {
     "name": "stdout",
     "output_type": "stream",
     "text": [
      "[0.0002]\n"
     ]
    },
    {
     "name": "stderr",
     "output_type": "stream",
     "text": [
      "Training Epoch [8/30]: 100%|██████████████████████████████████████████████| 42/42 [00:20<00:00,  2.04it/s, train_loss=1.53443450, val_loss=0.00000000]\n"
     ]
    },
    {
     "name": "stdout",
     "output_type": "stream",
     "text": [
      "[0.0002]\n"
     ]
    },
    {
     "name": "stderr",
     "output_type": "stream",
     "text": [
      "Training Epoch [9/30]: 100%|██████████████████████████████████████████████| 42/42 [00:20<00:00,  2.02it/s, train_loss=1.44969062, val_loss=0.00000000]\n"
     ]
    },
    {
     "name": "stdout",
     "output_type": "stream",
     "text": [
      "[0.0002]\n"
     ]
    },
    {
     "name": "stderr",
     "output_type": "stream",
     "text": [
      "Training Epoch [10/30]: 100%|█████████████████████████████████████████████| 42/42 [00:20<00:00,  2.03it/s, train_loss=1.41366393, val_loss=0.00000000]\n"
     ]
    },
    {
     "name": "stdout",
     "output_type": "stream",
     "text": [
      "[0.00016]\n"
     ]
    },
    {
     "name": "stderr",
     "output_type": "stream",
     "text": [
      "Training Epoch [11/30]: 100%|█████████████████████████████████████████████| 42/42 [00:20<00:00,  2.02it/s, train_loss=1.42977722, val_loss=0.00000000]\n"
     ]
    },
    {
     "name": "stdout",
     "output_type": "stream",
     "text": [
      "[0.00016]\n"
     ]
    },
    {
     "name": "stderr",
     "output_type": "stream",
     "text": [
      "Training Epoch [12/30]: 100%|█████████████████████████████████████████████| 42/42 [00:20<00:00,  2.03it/s, train_loss=1.37011494, val_loss=0.00000000]\n"
     ]
    },
    {
     "name": "stdout",
     "output_type": "stream",
     "text": [
      "[0.00016]\n"
     ]
    },
    {
     "name": "stderr",
     "output_type": "stream",
     "text": [
      "Training Epoch [13/30]: 100%|█████████████████████████████████████████████| 42/42 [00:20<00:00,  2.03it/s, train_loss=1.32208267, val_loss=0.00000000]\n"
     ]
    },
    {
     "name": "stdout",
     "output_type": "stream",
     "text": [
      "[0.00016]\n"
     ]
    },
    {
     "name": "stderr",
     "output_type": "stream",
     "text": [
      "Training Epoch [14/30]: 100%|█████████████████████████████████████████████| 42/42 [00:20<00:00,  2.01it/s, train_loss=1.27464430, val_loss=0.00000000]\n"
     ]
    },
    {
     "name": "stdout",
     "output_type": "stream",
     "text": [
      "[0.00016]\n"
     ]
    },
    {
     "name": "stderr",
     "output_type": "stream",
     "text": [
      "Training Epoch [15/30]: 100%|█████████████████████████████████████████████| 42/42 [00:20<00:00,  2.01it/s, train_loss=1.22991929, val_loss=0.00000000]\n"
     ]
    },
    {
     "name": "stdout",
     "output_type": "stream",
     "text": [
      "[0.00016]\n"
     ]
    },
    {
     "name": "stderr",
     "output_type": "stream",
     "text": [
      "Training Epoch [16/30]: 100%|█████████████████████████████████████████████| 42/42 [00:20<00:00,  2.04it/s, train_loss=1.20885461, val_loss=0.00000000]\n"
     ]
    },
    {
     "name": "stdout",
     "output_type": "stream",
     "text": [
      "[0.00016]\n"
     ]
    },
    {
     "name": "stderr",
     "output_type": "stream",
     "text": [
      "Training Epoch [17/30]: 100%|█████████████████████████████████████████████| 42/42 [00:20<00:00,  2.02it/s, train_loss=1.19081823, val_loss=0.00000000]\n"
     ]
    },
    {
     "name": "stdout",
     "output_type": "stream",
     "text": [
      "[0.00016]\n"
     ]
    },
    {
     "name": "stderr",
     "output_type": "stream",
     "text": [
      "Training Epoch [18/30]: 100%|█████████████████████████████████████████████| 42/42 [00:20<00:00,  2.03it/s, train_loss=1.18730134, val_loss=0.00000000]\n"
     ]
    },
    {
     "name": "stdout",
     "output_type": "stream",
     "text": [
      "[0.00016]\n"
     ]
    },
    {
     "name": "stderr",
     "output_type": "stream",
     "text": [
      "Training Epoch [19/30]: 100%|█████████████████████████████████████████████| 42/42 [00:20<00:00,  2.01it/s, train_loss=1.15223539, val_loss=0.00000000]\n"
     ]
    },
    {
     "name": "stdout",
     "output_type": "stream",
     "text": [
      "[0.00016]\n"
     ]
    },
    {
     "name": "stderr",
     "output_type": "stream",
     "text": [
      "Training Epoch [20/30]: 100%|█████████████████████████████████████████████| 42/42 [00:20<00:00,  2.02it/s, train_loss=1.12718073, val_loss=0.00000000]\n"
     ]
    },
    {
     "name": "stdout",
     "output_type": "stream",
     "text": [
      "[0.00012800000000000002]\n"
     ]
    },
    {
     "name": "stderr",
     "output_type": "stream",
     "text": [
      "Training Epoch [21/30]: 100%|█████████████████████████████████████████████| 42/42 [00:20<00:00,  2.02it/s, train_loss=1.09733639, val_loss=0.00000000]\n"
     ]
    },
    {
     "name": "stdout",
     "output_type": "stream",
     "text": [
      "[0.00012800000000000002]\n"
     ]
    },
    {
     "name": "stderr",
     "output_type": "stream",
     "text": [
      "Training Epoch [22/30]: 100%|█████████████████████████████████████████████| 42/42 [00:20<00:00,  2.03it/s, train_loss=1.10479125, val_loss=0.00000000]\n"
     ]
    },
    {
     "name": "stdout",
     "output_type": "stream",
     "text": [
      "[0.00012800000000000002]\n"
     ]
    },
    {
     "name": "stderr",
     "output_type": "stream",
     "text": [
      "Training Epoch [23/30]: 100%|█████████████████████████████████████████████| 42/42 [00:20<00:00,  2.02it/s, train_loss=1.06152713, val_loss=0.00000000]\n"
     ]
    },
    {
     "name": "stdout",
     "output_type": "stream",
     "text": [
      "[0.00012800000000000002]\n"
     ]
    },
    {
     "name": "stderr",
     "output_type": "stream",
     "text": [
      "Training Epoch [24/30]: 100%|█████████████████████████████████████████████| 42/42 [00:20<00:00,  2.02it/s, train_loss=1.06193035, val_loss=0.00000000]\n"
     ]
    },
    {
     "name": "stdout",
     "output_type": "stream",
     "text": [
      "[0.00012800000000000002]\n"
     ]
    },
    {
     "name": "stderr",
     "output_type": "stream",
     "text": [
      "Training Epoch [25/30]: 100%|█████████████████████████████████████████████| 42/42 [00:20<00:00,  2.03it/s, train_loss=1.04673066, val_loss=0.00000000]\n"
     ]
    },
    {
     "name": "stdout",
     "output_type": "stream",
     "text": [
      "[0.00012800000000000002]\n"
     ]
    },
    {
     "name": "stderr",
     "output_type": "stream",
     "text": [
      "Training Epoch [26/30]: 100%|█████████████████████████████████████████████| 42/42 [00:20<00:00,  2.04it/s, train_loss=1.03868419, val_loss=0.00000000]\n"
     ]
    },
    {
     "name": "stdout",
     "output_type": "stream",
     "text": [
      "[0.00012800000000000002]\n"
     ]
    },
    {
     "name": "stderr",
     "output_type": "stream",
     "text": [
      "Training Epoch [27/30]: 100%|█████████████████████████████████████████████| 42/42 [00:20<00:00,  2.03it/s, train_loss=0.99670588, val_loss=0.00000000]\n"
     ]
    },
    {
     "name": "stdout",
     "output_type": "stream",
     "text": [
      "[0.00012800000000000002]\n"
     ]
    },
    {
     "name": "stderr",
     "output_type": "stream",
     "text": [
      "Training Epoch [28/30]: 100%|█████████████████████████████████████████████| 42/42 [00:20<00:00,  2.03it/s, train_loss=0.93651765, val_loss=0.00000000]\n"
     ]
    },
    {
     "name": "stdout",
     "output_type": "stream",
     "text": [
      "[0.00012800000000000002]\n"
     ]
    },
    {
     "name": "stderr",
     "output_type": "stream",
     "text": [
      "Training Epoch [29/30]: 100%|█████████████████████████████████████████████| 42/42 [00:20<00:00,  2.04it/s, train_loss=0.94819726, val_loss=0.00000000]\n"
     ]
    },
    {
     "name": "stdout",
     "output_type": "stream",
     "text": [
      "[0.00012800000000000002]\n"
     ]
    },
    {
     "name": "stderr",
     "output_type": "stream",
     "text": [
      "Training Epoch [30/30]: 100%|█████████████████████████████████████████████| 42/42 [00:20<00:00,  2.04it/s, train_loss=0.94621531, val_loss=0.00000000]\n"
     ]
    },
    {
     "name": "stdout",
     "output_type": "stream",
     "text": [
      "[0.00010240000000000002]\n",
      "{'learning rate': 0.0002, 'beta1': 0.9, 'beta2': 0.999, 'step size': 10, 'gamma': 0.9}\n"
     ]
    },
    {
     "name": "stderr",
     "output_type": "stream",
     "text": [
      "Training Epoch [1/30]: 100%|█████████████████████████████████████████████| 42/42 [00:20<00:00,  2.03it/s, train_loss=13.34626062, val_loss=0.00000000]\n"
     ]
    },
    {
     "name": "stdout",
     "output_type": "stream",
     "text": [
      "[0.0002]\n"
     ]
    },
    {
     "name": "stderr",
     "output_type": "stream",
     "text": [
      "Training Epoch [2/30]: 100%|██████████████████████████████████████████████| 42/42 [00:20<00:00,  2.03it/s, train_loss=3.96772606, val_loss=0.00000000]\n"
     ]
    },
    {
     "name": "stdout",
     "output_type": "stream",
     "text": [
      "[0.0002]\n"
     ]
    },
    {
     "name": "stderr",
     "output_type": "stream",
     "text": [
      "Training Epoch [3/30]: 100%|██████████████████████████████████████████████| 42/42 [00:20<00:00,  2.04it/s, train_loss=2.36481823, val_loss=0.00000000]\n"
     ]
    },
    {
     "name": "stdout",
     "output_type": "stream",
     "text": [
      "[0.0002]\n"
     ]
    },
    {
     "name": "stderr",
     "output_type": "stream",
     "text": [
      "Training Epoch [4/30]: 100%|██████████████████████████████████████████████| 42/42 [00:20<00:00,  2.04it/s, train_loss=1.77456350, val_loss=0.00000000]\n"
     ]
    },
    {
     "name": "stdout",
     "output_type": "stream",
     "text": [
      "[0.0002]\n"
     ]
    },
    {
     "name": "stderr",
     "output_type": "stream",
     "text": [
      "Training Epoch [5/30]: 100%|██████████████████████████████████████████████| 42/42 [00:20<00:00,  2.02it/s, train_loss=1.68954983, val_loss=0.00000000]\n"
     ]
    },
    {
     "name": "stdout",
     "output_type": "stream",
     "text": [
      "[0.0002]\n"
     ]
    },
    {
     "name": "stderr",
     "output_type": "stream",
     "text": [
      "Training Epoch [6/30]: 100%|██████████████████████████████████████████████| 42/42 [00:20<00:00,  2.02it/s, train_loss=1.67019985, val_loss=0.00000000]\n"
     ]
    },
    {
     "name": "stdout",
     "output_type": "stream",
     "text": [
      "[0.0002]\n"
     ]
    },
    {
     "name": "stderr",
     "output_type": "stream",
     "text": [
      "Training Epoch [7/30]: 100%|██████████████████████████████████████████████| 42/42 [00:20<00:00,  2.03it/s, train_loss=1.61955328, val_loss=0.00000000]\n"
     ]
    },
    {
     "name": "stdout",
     "output_type": "stream",
     "text": [
      "[0.0002]\n"
     ]
    },
    {
     "name": "stderr",
     "output_type": "stream",
     "text": [
      "Training Epoch [8/30]: 100%|██████████████████████████████████████████████| 42/42 [00:20<00:00,  2.03it/s, train_loss=1.60562237, val_loss=0.00000000]\n"
     ]
    },
    {
     "name": "stdout",
     "output_type": "stream",
     "text": [
      "[0.0002]\n"
     ]
    },
    {
     "name": "stderr",
     "output_type": "stream",
     "text": [
      "Training Epoch [9/30]: 100%|██████████████████████████████████████████████| 42/42 [00:20<00:00,  2.03it/s, train_loss=1.58754927, val_loss=0.00000000]\n"
     ]
    },
    {
     "name": "stdout",
     "output_type": "stream",
     "text": [
      "[0.0002]\n"
     ]
    },
    {
     "name": "stderr",
     "output_type": "stream",
     "text": [
      "Training Epoch [10/30]: 100%|█████████████████████████████████████████████| 42/42 [00:20<00:00,  2.03it/s, train_loss=1.53646606, val_loss=0.00000000]\n"
     ]
    },
    {
     "name": "stdout",
     "output_type": "stream",
     "text": [
      "[0.00018]\n"
     ]
    },
    {
     "name": "stderr",
     "output_type": "stream",
     "text": [
      "Training Epoch [11/30]: 100%|█████████████████████████████████████████████| 42/42 [00:20<00:00,  2.03it/s, train_loss=1.46353065, val_loss=0.00000000]\n"
     ]
    },
    {
     "name": "stdout",
     "output_type": "stream",
     "text": [
      "[0.00018]\n"
     ]
    },
    {
     "name": "stderr",
     "output_type": "stream",
     "text": [
      "Training Epoch [12/30]: 100%|█████████████████████████████████████████████| 42/42 [00:20<00:00,  2.01it/s, train_loss=1.44467021, val_loss=0.00000000]\n"
     ]
    },
    {
     "name": "stdout",
     "output_type": "stream",
     "text": [
      "[0.00018]\n"
     ]
    },
    {
     "name": "stderr",
     "output_type": "stream",
     "text": [
      "Training Epoch [13/30]: 100%|█████████████████████████████████████████████| 42/42 [00:20<00:00,  2.01it/s, train_loss=1.38937921, val_loss=0.00000000]\n"
     ]
    },
    {
     "name": "stdout",
     "output_type": "stream",
     "text": [
      "[0.00018]\n"
     ]
    },
    {
     "name": "stderr",
     "output_type": "stream",
     "text": [
      "Training Epoch [14/30]: 100%|█████████████████████████████████████████████| 42/42 [00:20<00:00,  2.02it/s, train_loss=1.34809678, val_loss=0.00000000]\n"
     ]
    },
    {
     "name": "stdout",
     "output_type": "stream",
     "text": [
      "[0.00018]\n"
     ]
    },
    {
     "name": "stderr",
     "output_type": "stream",
     "text": [
      "Training Epoch [15/30]: 100%|█████████████████████████████████████████████| 42/42 [00:20<00:00,  2.02it/s, train_loss=1.35969469, val_loss=0.00000000]\n"
     ]
    },
    {
     "name": "stdout",
     "output_type": "stream",
     "text": [
      "[0.00018]\n"
     ]
    },
    {
     "name": "stderr",
     "output_type": "stream",
     "text": [
      "Training Epoch [16/30]: 100%|█████████████████████████████████████████████| 42/42 [00:20<00:00,  2.03it/s, train_loss=1.32095226, val_loss=0.00000000]\n"
     ]
    },
    {
     "name": "stdout",
     "output_type": "stream",
     "text": [
      "[0.00018]\n"
     ]
    },
    {
     "name": "stderr",
     "output_type": "stream",
     "text": [
      "Training Epoch [17/30]: 100%|█████████████████████████████████████████████| 42/42 [00:20<00:00,  2.03it/s, train_loss=1.24378188, val_loss=0.00000000]\n"
     ]
    },
    {
     "name": "stdout",
     "output_type": "stream",
     "text": [
      "[0.00018]\n"
     ]
    },
    {
     "name": "stderr",
     "output_type": "stream",
     "text": [
      "Training Epoch [18/30]: 100%|█████████████████████████████████████████████| 42/42 [00:20<00:00,  2.03it/s, train_loss=1.19553890, val_loss=0.00000000]\n"
     ]
    },
    {
     "name": "stdout",
     "output_type": "stream",
     "text": [
      "[0.00018]\n"
     ]
    },
    {
     "name": "stderr",
     "output_type": "stream",
     "text": [
      "Training Epoch [19/30]: 100%|█████████████████████████████████████████████| 42/42 [00:20<00:00,  2.02it/s, train_loss=1.17262282, val_loss=0.00000000]\n"
     ]
    },
    {
     "name": "stdout",
     "output_type": "stream",
     "text": [
      "[0.00018]\n"
     ]
    },
    {
     "name": "stderr",
     "output_type": "stream",
     "text": [
      "Training Epoch [20/30]: 100%|█████████████████████████████████████████████| 42/42 [00:20<00:00,  2.02it/s, train_loss=1.25237230, val_loss=0.00000000]\n"
     ]
    },
    {
     "name": "stdout",
     "output_type": "stream",
     "text": [
      "[0.000162]\n"
     ]
    },
    {
     "name": "stderr",
     "output_type": "stream",
     "text": [
      "Training Epoch [21/30]: 100%|█████████████████████████████████████████████| 42/42 [00:20<00:00,  2.03it/s, train_loss=1.10309852, val_loss=0.00000000]\n"
     ]
    },
    {
     "name": "stdout",
     "output_type": "stream",
     "text": [
      "[0.000162]\n"
     ]
    },
    {
     "name": "stderr",
     "output_type": "stream",
     "text": [
      "Training Epoch [22/30]: 100%|█████████████████████████████████████████████| 42/42 [00:20<00:00,  2.03it/s, train_loss=1.07679715, val_loss=0.00000000]\n"
     ]
    },
    {
     "name": "stdout",
     "output_type": "stream",
     "text": [
      "[0.000162]\n"
     ]
    },
    {
     "name": "stderr",
     "output_type": "stream",
     "text": [
      "Training Epoch [23/30]: 100%|█████████████████████████████████████████████| 42/42 [00:20<00:00,  2.02it/s, train_loss=1.09647939, val_loss=0.00000000]\n"
     ]
    },
    {
     "name": "stdout",
     "output_type": "stream",
     "text": [
      "[0.000162]\n"
     ]
    },
    {
     "name": "stderr",
     "output_type": "stream",
     "text": [
      "Training Epoch [24/30]: 100%|█████████████████████████████████████████████| 42/42 [00:20<00:00,  2.02it/s, train_loss=1.08032311, val_loss=0.00000000]\n"
     ]
    },
    {
     "name": "stdout",
     "output_type": "stream",
     "text": [
      "[0.000162]\n"
     ]
    },
    {
     "name": "stderr",
     "output_type": "stream",
     "text": [
      "Training Epoch [25/30]: 100%|█████████████████████████████████████████████| 42/42 [00:20<00:00,  2.03it/s, train_loss=1.02752136, val_loss=0.00000000]\n"
     ]
    },
    {
     "name": "stdout",
     "output_type": "stream",
     "text": [
      "[0.000162]\n"
     ]
    },
    {
     "name": "stderr",
     "output_type": "stream",
     "text": [
      "Training Epoch [26/30]: 100%|█████████████████████████████████████████████| 42/42 [00:20<00:00,  2.02it/s, train_loss=1.02636993, val_loss=0.00000000]\n"
     ]
    },
    {
     "name": "stdout",
     "output_type": "stream",
     "text": [
      "[0.000162]\n"
     ]
    },
    {
     "name": "stderr",
     "output_type": "stream",
     "text": [
      "Training Epoch [27/30]: 100%|█████████████████████████████████████████████| 42/42 [00:20<00:00,  2.04it/s, train_loss=1.22918038, val_loss=0.00000000]\n"
     ]
    },
    {
     "name": "stdout",
     "output_type": "stream",
     "text": [
      "[0.000162]\n"
     ]
    },
    {
     "name": "stderr",
     "output_type": "stream",
     "text": [
      "Training Epoch [28/30]: 100%|█████████████████████████████████████████████| 42/42 [00:20<00:00,  2.03it/s, train_loss=1.17788429, val_loss=0.00000000]\n"
     ]
    },
    {
     "name": "stdout",
     "output_type": "stream",
     "text": [
      "[0.000162]\n"
     ]
    },
    {
     "name": "stderr",
     "output_type": "stream",
     "text": [
      "Training Epoch [29/30]: 100%|█████████████████████████████████████████████| 42/42 [00:20<00:00,  2.03it/s, train_loss=1.05279452, val_loss=0.00000000]\n"
     ]
    },
    {
     "name": "stdout",
     "output_type": "stream",
     "text": [
      "[0.000162]\n"
     ]
    },
    {
     "name": "stderr",
     "output_type": "stream",
     "text": [
      "Training Epoch [30/30]: 100%|█████████████████████████████████████████████| 42/42 [00:20<00:00,  2.03it/s, train_loss=1.01948001, val_loss=0.00000000]\n"
     ]
    },
    {
     "name": "stdout",
     "output_type": "stream",
     "text": [
      "[0.00014580000000000002]\n",
      "{'learning rate': 0.0004, 'beta1': 0.9, 'beta2': 0.999, 'step size': 10, 'gamma': 0.8}\n"
     ]
    },
    {
     "name": "stderr",
     "output_type": "stream",
     "text": [
      "Training Epoch [1/30]: 100%|█████████████████████████████████████████████| 42/42 [00:20<00:00,  2.03it/s, train_loss=15.77213504, val_loss=0.00000000]\n"
     ]
    },
    {
     "name": "stdout",
     "output_type": "stream",
     "text": [
      "[0.0004]\n"
     ]
    },
    {
     "name": "stderr",
     "output_type": "stream",
     "text": [
      "Training Epoch [2/30]: 100%|██████████████████████████████████████████████| 42/42 [00:20<00:00,  2.03it/s, train_loss=4.47009453, val_loss=0.00000000]\n"
     ]
    },
    {
     "name": "stdout",
     "output_type": "stream",
     "text": [
      "[0.0004]\n"
     ]
    },
    {
     "name": "stderr",
     "output_type": "stream",
     "text": [
      "Training Epoch [3/30]: 100%|██████████████████████████████████████████████| 42/42 [00:20<00:00,  2.03it/s, train_loss=2.97733598, val_loss=0.00000000]\n"
     ]
    },
    {
     "name": "stdout",
     "output_type": "stream",
     "text": [
      "[0.0004]\n"
     ]
    },
    {
     "name": "stderr",
     "output_type": "stream",
     "text": [
      "Training Epoch [4/30]: 100%|██████████████████████████████████████████████| 42/42 [00:20<00:00,  2.03it/s, train_loss=2.63789221, val_loss=0.00000000]\n"
     ]
    },
    {
     "name": "stdout",
     "output_type": "stream",
     "text": [
      "[0.0004]\n"
     ]
    },
    {
     "name": "stderr",
     "output_type": "stream",
     "text": [
      "Training Epoch [5/30]: 100%|██████████████████████████████████████████████| 42/42 [00:20<00:00,  2.03it/s, train_loss=1.91449665, val_loss=0.00000000]\n"
     ]
    },
    {
     "name": "stdout",
     "output_type": "stream",
     "text": [
      "[0.0004]\n"
     ]
    },
    {
     "name": "stderr",
     "output_type": "stream",
     "text": [
      "Training Epoch [6/30]: 100%|██████████████████████████████████████████████| 42/42 [00:20<00:00,  2.03it/s, train_loss=1.85526511, val_loss=0.00000000]\n"
     ]
    },
    {
     "name": "stdout",
     "output_type": "stream",
     "text": [
      "[0.0004]\n"
     ]
    },
    {
     "name": "stderr",
     "output_type": "stream",
     "text": [
      "Training Epoch [7/30]: 100%|██████████████████████████████████████████████| 42/42 [00:20<00:00,  2.03it/s, train_loss=1.71083009, val_loss=0.00000000]\n"
     ]
    },
    {
     "name": "stdout",
     "output_type": "stream",
     "text": [
      "[0.0004]\n"
     ]
    },
    {
     "name": "stderr",
     "output_type": "stream",
     "text": [
      "Training Epoch [8/30]: 100%|██████████████████████████████████████████████| 42/42 [00:20<00:00,  2.03it/s, train_loss=1.66528462, val_loss=0.00000000]\n"
     ]
    },
    {
     "name": "stdout",
     "output_type": "stream",
     "text": [
      "[0.0004]\n"
     ]
    },
    {
     "name": "stderr",
     "output_type": "stream",
     "text": [
      "Training Epoch [9/30]: 100%|██████████████████████████████████████████████| 42/42 [00:20<00:00,  2.04it/s, train_loss=1.66156399, val_loss=0.00000000]\n"
     ]
    },
    {
     "name": "stdout",
     "output_type": "stream",
     "text": [
      "[0.0004]\n"
     ]
    },
    {
     "name": "stderr",
     "output_type": "stream",
     "text": [
      "Training Epoch [10/30]: 100%|█████████████████████████████████████████████| 42/42 [00:20<00:00,  2.02it/s, train_loss=1.68259734, val_loss=0.00000000]\n"
     ]
    },
    {
     "name": "stdout",
     "output_type": "stream",
     "text": [
      "[0.00032]\n"
     ]
    },
    {
     "name": "stderr",
     "output_type": "stream",
     "text": [
      "Training Epoch [11/30]: 100%|█████████████████████████████████████████████| 42/42 [00:20<00:00,  2.03it/s, train_loss=1.65374952, val_loss=0.00000000]\n"
     ]
    },
    {
     "name": "stdout",
     "output_type": "stream",
     "text": [
      "[0.00032]\n"
     ]
    },
    {
     "name": "stderr",
     "output_type": "stream",
     "text": [
      "Training Epoch [12/30]: 100%|█████████████████████████████████████████████| 42/42 [00:20<00:00,  2.03it/s, train_loss=1.63218253, val_loss=0.00000000]\n"
     ]
    },
    {
     "name": "stdout",
     "output_type": "stream",
     "text": [
      "[0.00032]\n"
     ]
    },
    {
     "name": "stderr",
     "output_type": "stream",
     "text": [
      "Training Epoch [13/30]: 100%|█████████████████████████████████████████████| 42/42 [00:20<00:00,  2.03it/s, train_loss=1.63774324, val_loss=0.00000000]\n"
     ]
    },
    {
     "name": "stdout",
     "output_type": "stream",
     "text": [
      "[0.00032]\n"
     ]
    },
    {
     "name": "stderr",
     "output_type": "stream",
     "text": [
      "Training Epoch [14/30]: 100%|█████████████████████████████████████████████| 42/42 [00:20<00:00,  2.03it/s, train_loss=1.61788081, val_loss=0.00000000]\n"
     ]
    },
    {
     "name": "stdout",
     "output_type": "stream",
     "text": [
      "[0.00032]\n"
     ]
    },
    {
     "name": "stderr",
     "output_type": "stream",
     "text": [
      "Training Epoch [15/30]: 100%|█████████████████████████████████████████████| 42/42 [00:20<00:00,  2.04it/s, train_loss=1.63313814, val_loss=0.00000000]\n"
     ]
    },
    {
     "name": "stdout",
     "output_type": "stream",
     "text": [
      "[0.00032]\n"
     ]
    },
    {
     "name": "stderr",
     "output_type": "stream",
     "text": [
      "Training Epoch [16/30]: 100%|█████████████████████████████████████████████| 42/42 [00:20<00:00,  2.04it/s, train_loss=1.60872505, val_loss=0.00000000]\n"
     ]
    },
    {
     "name": "stdout",
     "output_type": "stream",
     "text": [
      "[0.00032]\n"
     ]
    },
    {
     "name": "stderr",
     "output_type": "stream",
     "text": [
      "Training Epoch [17/30]: 100%|█████████████████████████████████████████████| 42/42 [00:20<00:00,  2.04it/s, train_loss=1.59530540, val_loss=0.00000000]\n"
     ]
    },
    {
     "name": "stdout",
     "output_type": "stream",
     "text": [
      "[0.00032]\n"
     ]
    },
    {
     "name": "stderr",
     "output_type": "stream",
     "text": [
      "Training Epoch [18/30]: 100%|█████████████████████████████████████████████| 42/42 [00:20<00:00,  2.03it/s, train_loss=1.55031311, val_loss=0.00000000]\n"
     ]
    },
    {
     "name": "stdout",
     "output_type": "stream",
     "text": [
      "[0.00032]\n"
     ]
    },
    {
     "name": "stderr",
     "output_type": "stream",
     "text": [
      "Training Epoch [19/30]: 100%|█████████████████████████████████████████████| 42/42 [00:20<00:00,  2.04it/s, train_loss=1.56799436, val_loss=0.00000000]\n"
     ]
    },
    {
     "name": "stdout",
     "output_type": "stream",
     "text": [
      "[0.00032]\n"
     ]
    },
    {
     "name": "stderr",
     "output_type": "stream",
     "text": [
      "Training Epoch [20/30]: 100%|█████████████████████████████████████████████| 42/42 [00:20<00:00,  2.04it/s, train_loss=1.51349005, val_loss=0.00000000]\n"
     ]
    },
    {
     "name": "stdout",
     "output_type": "stream",
     "text": [
      "[0.00025600000000000004]\n"
     ]
    },
    {
     "name": "stderr",
     "output_type": "stream",
     "text": [
      "Training Epoch [21/30]: 100%|█████████████████████████████████████████████| 42/42 [00:20<00:00,  2.03it/s, train_loss=1.44747994, val_loss=0.00000000]\n"
     ]
    },
    {
     "name": "stdout",
     "output_type": "stream",
     "text": [
      "[0.00025600000000000004]\n"
     ]
    },
    {
     "name": "stderr",
     "output_type": "stream",
     "text": [
      "Training Epoch [22/30]: 100%|█████████████████████████████████████████████| 42/42 [00:20<00:00,  2.04it/s, train_loss=1.45812619, val_loss=0.00000000]\n"
     ]
    },
    {
     "name": "stdout",
     "output_type": "stream",
     "text": [
      "[0.00025600000000000004]\n"
     ]
    },
    {
     "name": "stderr",
     "output_type": "stream",
     "text": [
      "Training Epoch [23/30]: 100%|█████████████████████████████████████████████| 42/42 [00:20<00:00,  2.03it/s, train_loss=1.37815352, val_loss=0.00000000]\n"
     ]
    },
    {
     "name": "stdout",
     "output_type": "stream",
     "text": [
      "[0.00025600000000000004]\n"
     ]
    },
    {
     "name": "stderr",
     "output_type": "stream",
     "text": [
      "Training Epoch [24/30]: 100%|█████████████████████████████████████████████| 42/42 [00:20<00:00,  2.04it/s, train_loss=1.34640889, val_loss=0.00000000]\n"
     ]
    },
    {
     "name": "stdout",
     "output_type": "stream",
     "text": [
      "[0.00025600000000000004]\n"
     ]
    },
    {
     "name": "stderr",
     "output_type": "stream",
     "text": [
      "Training Epoch [25/30]: 100%|█████████████████████████████████████████████| 42/42 [00:20<00:00,  2.02it/s, train_loss=1.37585740, val_loss=0.00000000]\n"
     ]
    },
    {
     "name": "stdout",
     "output_type": "stream",
     "text": [
      "[0.00025600000000000004]\n"
     ]
    },
    {
     "name": "stderr",
     "output_type": "stream",
     "text": [
      "Training Epoch [26/30]: 100%|█████████████████████████████████████████████| 42/42 [00:20<00:00,  2.03it/s, train_loss=1.32030277, val_loss=0.00000000]\n"
     ]
    },
    {
     "name": "stdout",
     "output_type": "stream",
     "text": [
      "[0.00025600000000000004]\n"
     ]
    },
    {
     "name": "stderr",
     "output_type": "stream",
     "text": [
      "Training Epoch [27/30]: 100%|█████████████████████████████████████████████| 42/42 [00:20<00:00,  2.02it/s, train_loss=1.28391960, val_loss=0.00000000]\n"
     ]
    },
    {
     "name": "stdout",
     "output_type": "stream",
     "text": [
      "[0.00025600000000000004]\n"
     ]
    },
    {
     "name": "stderr",
     "output_type": "stream",
     "text": [
      "Training Epoch [28/30]: 100%|█████████████████████████████████████████████| 42/42 [00:20<00:00,  2.03it/s, train_loss=1.32859314, val_loss=0.00000000]\n"
     ]
    },
    {
     "name": "stdout",
     "output_type": "stream",
     "text": [
      "[0.00025600000000000004]\n"
     ]
    },
    {
     "name": "stderr",
     "output_type": "stream",
     "text": [
      "Training Epoch [29/30]: 100%|█████████████████████████████████████████████| 42/42 [00:20<00:00,  2.04it/s, train_loss=1.34496628, val_loss=0.00000000]\n"
     ]
    },
    {
     "name": "stdout",
     "output_type": "stream",
     "text": [
      "[0.00025600000000000004]\n"
     ]
    },
    {
     "name": "stderr",
     "output_type": "stream",
     "text": [
      "Training Epoch [30/30]: 100%|█████████████████████████████████████████████| 42/42 [00:20<00:00,  2.03it/s, train_loss=1.23657026, val_loss=0.00000000]\n"
     ]
    },
    {
     "name": "stdout",
     "output_type": "stream",
     "text": [
      "[0.00020480000000000004]\n",
      "{'learning rate': 0.0004, 'beta1': 0.9, 'beta2': 0.999, 'step size': 10, 'gamma': 0.9}\n"
     ]
    },
    {
     "name": "stderr",
     "output_type": "stream",
     "text": [
      "Training Epoch [1/30]: 100%|█████████████████████████████████████████████| 42/42 [00:20<00:00,  2.02it/s, train_loss=16.23061840, val_loss=0.00000000]\n"
     ]
    },
    {
     "name": "stdout",
     "output_type": "stream",
     "text": [
      "[0.0004]\n"
     ]
    },
    {
     "name": "stderr",
     "output_type": "stream",
     "text": [
      "Training Epoch [2/30]: 100%|██████████████████████████████████████████████| 42/42 [00:20<00:00,  2.04it/s, train_loss=4.42887226, val_loss=0.00000000]\n"
     ]
    },
    {
     "name": "stdout",
     "output_type": "stream",
     "text": [
      "[0.0004]\n"
     ]
    },
    {
     "name": "stderr",
     "output_type": "stream",
     "text": [
      "Training Epoch [3/30]: 100%|██████████████████████████████████████████████| 42/42 [00:20<00:00,  2.03it/s, train_loss=3.23480252, val_loss=0.00000000]\n"
     ]
    },
    {
     "name": "stdout",
     "output_type": "stream",
     "text": [
      "[0.0004]\n"
     ]
    },
    {
     "name": "stderr",
     "output_type": "stream",
     "text": [
      "Training Epoch [4/30]: 100%|██████████████████████████████████████████████| 42/42 [00:20<00:00,  2.03it/s, train_loss=2.55532811, val_loss=0.00000000]\n"
     ]
    },
    {
     "name": "stdout",
     "output_type": "stream",
     "text": [
      "[0.0004]\n"
     ]
    },
    {
     "name": "stderr",
     "output_type": "stream",
     "text": [
      "Training Epoch [5/30]: 100%|██████████████████████████████████████████████| 42/42 [00:20<00:00,  2.04it/s, train_loss=1.95768998, val_loss=0.00000000]\n"
     ]
    },
    {
     "name": "stdout",
     "output_type": "stream",
     "text": [
      "[0.0004]\n"
     ]
    },
    {
     "name": "stderr",
     "output_type": "stream",
     "text": [
      "Training Epoch [6/30]: 100%|██████████████████████████████████████████████| 42/42 [00:20<00:00,  2.03it/s, train_loss=1.72938173, val_loss=0.00000000]\n"
     ]
    },
    {
     "name": "stdout",
     "output_type": "stream",
     "text": [
      "[0.0004]\n"
     ]
    },
    {
     "name": "stderr",
     "output_type": "stream",
     "text": [
      "Training Epoch [7/30]: 100%|██████████████████████████████████████████████| 42/42 [00:20<00:00,  2.04it/s, train_loss=1.69021941, val_loss=0.00000000]\n"
     ]
    },
    {
     "name": "stdout",
     "output_type": "stream",
     "text": [
      "[0.0004]\n"
     ]
    },
    {
     "name": "stderr",
     "output_type": "stream",
     "text": [
      "Training Epoch [8/30]: 100%|██████████████████████████████████████████████| 42/42 [00:20<00:00,  2.03it/s, train_loss=1.67181602, val_loss=0.00000000]\n"
     ]
    },
    {
     "name": "stdout",
     "output_type": "stream",
     "text": [
      "[0.0004]\n"
     ]
    },
    {
     "name": "stderr",
     "output_type": "stream",
     "text": [
      "Training Epoch [9/30]: 100%|██████████████████████████████████████████████| 42/42 [00:20<00:00,  2.03it/s, train_loss=1.67965181, val_loss=0.00000000]\n"
     ]
    },
    {
     "name": "stdout",
     "output_type": "stream",
     "text": [
      "[0.0004]\n"
     ]
    },
    {
     "name": "stderr",
     "output_type": "stream",
     "text": [
      "Training Epoch [10/30]: 100%|█████████████████████████████████████████████| 42/42 [00:20<00:00,  2.03it/s, train_loss=1.66114999, val_loss=0.00000000]\n"
     ]
    },
    {
     "name": "stdout",
     "output_type": "stream",
     "text": [
      "[0.00036]\n"
     ]
    },
    {
     "name": "stderr",
     "output_type": "stream",
     "text": [
      "Training Epoch [11/30]: 100%|█████████████████████████████████████████████| 42/42 [00:20<00:00,  2.04it/s, train_loss=1.64076257, val_loss=0.00000000]\n"
     ]
    },
    {
     "name": "stdout",
     "output_type": "stream",
     "text": [
      "[0.00036]\n"
     ]
    },
    {
     "name": "stderr",
     "output_type": "stream",
     "text": [
      "Training Epoch [12/30]: 100%|█████████████████████████████████████████████| 42/42 [00:20<00:00,  2.05it/s, train_loss=1.69567227, val_loss=0.00000000]\n"
     ]
    },
    {
     "name": "stdout",
     "output_type": "stream",
     "text": [
      "[0.00036]\n"
     ]
    },
    {
     "name": "stderr",
     "output_type": "stream",
     "text": [
      "Training Epoch [13/30]: 100%|█████████████████████████████████████████████| 42/42 [00:20<00:00,  2.02it/s, train_loss=1.67616975, val_loss=0.00000000]\n"
     ]
    },
    {
     "name": "stdout",
     "output_type": "stream",
     "text": [
      "[0.00036]\n"
     ]
    },
    {
     "name": "stderr",
     "output_type": "stream",
     "text": [
      "Training Epoch [14/30]: 100%|█████████████████████████████████████████████| 42/42 [00:20<00:00,  2.03it/s, train_loss=1.57095102, val_loss=0.00000000]\n"
     ]
    },
    {
     "name": "stdout",
     "output_type": "stream",
     "text": [
      "[0.00036]\n"
     ]
    },
    {
     "name": "stderr",
     "output_type": "stream",
     "text": [
      "Training Epoch [15/30]: 100%|█████████████████████████████████████████████| 42/42 [00:20<00:00,  2.04it/s, train_loss=1.51533354, val_loss=0.00000000]\n"
     ]
    },
    {
     "name": "stdout",
     "output_type": "stream",
     "text": [
      "[0.00036]\n"
     ]
    },
    {
     "name": "stderr",
     "output_type": "stream",
     "text": [
      "Training Epoch [16/30]: 100%|█████████████████████████████████████████████| 42/42 [00:20<00:00,  2.03it/s, train_loss=1.46080845, val_loss=0.00000000]\n"
     ]
    },
    {
     "name": "stdout",
     "output_type": "stream",
     "text": [
      "[0.00036]\n"
     ]
    },
    {
     "name": "stderr",
     "output_type": "stream",
     "text": [
      "Training Epoch [17/30]: 100%|█████████████████████████████████████████████| 42/42 [00:20<00:00,  2.03it/s, train_loss=1.47192123, val_loss=0.00000000]\n"
     ]
    },
    {
     "name": "stdout",
     "output_type": "stream",
     "text": [
      "[0.00036]\n"
     ]
    },
    {
     "name": "stderr",
     "output_type": "stream",
     "text": [
      "Training Epoch [18/30]: 100%|█████████████████████████████████████████████| 42/42 [00:20<00:00,  2.03it/s, train_loss=1.48507986, val_loss=0.00000000]\n"
     ]
    },
    {
     "name": "stdout",
     "output_type": "stream",
     "text": [
      "[0.00036]\n"
     ]
    },
    {
     "name": "stderr",
     "output_type": "stream",
     "text": [
      "Training Epoch [19/30]: 100%|█████████████████████████████████████████████| 42/42 [00:20<00:00,  2.00it/s, train_loss=1.42098318, val_loss=0.00000000]\n"
     ]
    },
    {
     "name": "stdout",
     "output_type": "stream",
     "text": [
      "[0.00036]\n"
     ]
    },
    {
     "name": "stderr",
     "output_type": "stream",
     "text": [
      "Training Epoch [20/30]: 100%|█████████████████████████████████████████████| 42/42 [00:20<00:00,  2.03it/s, train_loss=1.42162054, val_loss=0.00000000]\n"
     ]
    },
    {
     "name": "stdout",
     "output_type": "stream",
     "text": [
      "[0.000324]\n"
     ]
    },
    {
     "name": "stderr",
     "output_type": "stream",
     "text": [
      "Training Epoch [21/30]: 100%|█████████████████████████████████████████████| 42/42 [00:20<00:00,  2.02it/s, train_loss=1.36720331, val_loss=0.00000000]\n"
     ]
    },
    {
     "name": "stdout",
     "output_type": "stream",
     "text": [
      "[0.000324]\n"
     ]
    },
    {
     "name": "stderr",
     "output_type": "stream",
     "text": [
      "Training Epoch [22/30]: 100%|█████████████████████████████████████████████| 42/42 [00:20<00:00,  2.01it/s, train_loss=1.30138751, val_loss=0.00000000]\n"
     ]
    },
    {
     "name": "stdout",
     "output_type": "stream",
     "text": [
      "[0.000324]\n"
     ]
    },
    {
     "name": "stderr",
     "output_type": "stream",
     "text": [
      "Training Epoch [23/30]: 100%|█████████████████████████████████████████████| 42/42 [00:20<00:00,  2.01it/s, train_loss=1.31277331, val_loss=0.00000000]\n"
     ]
    },
    {
     "name": "stdout",
     "output_type": "stream",
     "text": [
      "[0.000324]\n"
     ]
    },
    {
     "name": "stderr",
     "output_type": "stream",
     "text": [
      "Training Epoch [24/30]: 100%|█████████████████████████████████████████████| 42/42 [00:21<00:00,  1.99it/s, train_loss=1.21820740, val_loss=0.00000000]\n"
     ]
    },
    {
     "name": "stdout",
     "output_type": "stream",
     "text": [
      "[0.000324]\n"
     ]
    },
    {
     "name": "stderr",
     "output_type": "stream",
     "text": [
      "Training Epoch [25/30]: 100%|█████████████████████████████████████████████| 42/42 [00:20<00:00,  2.02it/s, train_loss=1.18483419, val_loss=0.00000000]\n"
     ]
    },
    {
     "name": "stdout",
     "output_type": "stream",
     "text": [
      "[0.000324]\n"
     ]
    },
    {
     "name": "stderr",
     "output_type": "stream",
     "text": [
      "Training Epoch [26/30]: 100%|█████████████████████████████████████████████| 42/42 [00:20<00:00,  2.00it/s, train_loss=1.21212562, val_loss=0.00000000]\n"
     ]
    },
    {
     "name": "stdout",
     "output_type": "stream",
     "text": [
      "[0.000324]\n"
     ]
    },
    {
     "name": "stderr",
     "output_type": "stream",
     "text": [
      "Training Epoch [27/30]: 100%|█████████████████████████████████████████████| 42/42 [00:20<00:00,  2.03it/s, train_loss=1.16553573, val_loss=0.00000000]\n"
     ]
    },
    {
     "name": "stdout",
     "output_type": "stream",
     "text": [
      "[0.000324]\n"
     ]
    },
    {
     "name": "stderr",
     "output_type": "stream",
     "text": [
      "Training Epoch [28/30]: 100%|█████████████████████████████████████████████| 42/42 [00:20<00:00,  2.04it/s, train_loss=1.12645229, val_loss=0.00000000]\n"
     ]
    },
    {
     "name": "stdout",
     "output_type": "stream",
     "text": [
      "[0.000324]\n"
     ]
    },
    {
     "name": "stderr",
     "output_type": "stream",
     "text": [
      "Training Epoch [29/30]: 100%|█████████████████████████████████████████████| 42/42 [00:20<00:00,  2.04it/s, train_loss=1.12824712, val_loss=0.00000000]\n"
     ]
    },
    {
     "name": "stdout",
     "output_type": "stream",
     "text": [
      "[0.000324]\n"
     ]
    },
    {
     "name": "stderr",
     "output_type": "stream",
     "text": [
      "Training Epoch [30/30]: 100%|█████████████████████████████████████████████| 42/42 [00:20<00:00,  2.05it/s, train_loss=1.08505146, val_loss=0.00000000]\n"
     ]
    },
    {
     "name": "stdout",
     "output_type": "stream",
     "text": [
      "[0.00029160000000000004]\n",
      "{'learning rate': 0.0006, 'beta1': 0.9, 'beta2': 0.999, 'step size': 10, 'gamma': 0.8}\n"
     ]
    },
    {
     "name": "stderr",
     "output_type": "stream",
     "text": [
      "Training Epoch [1/30]: 100%|█████████████████████████████████████████████| 42/42 [00:20<00:00,  2.03it/s, train_loss=20.74902292, val_loss=0.00000000]\n"
     ]
    },
    {
     "name": "stdout",
     "output_type": "stream",
     "text": [
      "[0.0006]\n"
     ]
    },
    {
     "name": "stderr",
     "output_type": "stream",
     "text": [
      "Training Epoch [2/30]: 100%|██████████████████████████████████████████████| 42/42 [00:20<00:00,  2.04it/s, train_loss=5.08879335, val_loss=0.00000000]\n"
     ]
    },
    {
     "name": "stdout",
     "output_type": "stream",
     "text": [
      "[0.0006]\n"
     ]
    },
    {
     "name": "stderr",
     "output_type": "stream",
     "text": [
      "Training Epoch [3/30]: 100%|██████████████████████████████████████████████| 42/42 [00:20<00:00,  2.04it/s, train_loss=3.81595308, val_loss=0.00000000]\n"
     ]
    },
    {
     "name": "stdout",
     "output_type": "stream",
     "text": [
      "[0.0006]\n"
     ]
    },
    {
     "name": "stderr",
     "output_type": "stream",
     "text": [
      "Training Epoch [4/30]: 100%|██████████████████████████████████████████████| 42/42 [00:20<00:00,  2.04it/s, train_loss=2.86893494, val_loss=0.00000000]\n"
     ]
    },
    {
     "name": "stdout",
     "output_type": "stream",
     "text": [
      "[0.0006]\n"
     ]
    },
    {
     "name": "stderr",
     "output_type": "stream",
     "text": [
      "Training Epoch [5/30]: 100%|██████████████████████████████████████████████| 42/42 [00:20<00:00,  2.04it/s, train_loss=2.73657386, val_loss=0.00000000]\n"
     ]
    },
    {
     "name": "stdout",
     "output_type": "stream",
     "text": [
      "[0.0006]\n"
     ]
    },
    {
     "name": "stderr",
     "output_type": "stream",
     "text": [
      "Training Epoch [6/30]: 100%|██████████████████████████████████████████████| 42/42 [00:20<00:00,  2.02it/s, train_loss=1.96015935, val_loss=0.00000000]\n"
     ]
    },
    {
     "name": "stdout",
     "output_type": "stream",
     "text": [
      "[0.0006]\n"
     ]
    },
    {
     "name": "stderr",
     "output_type": "stream",
     "text": [
      "Training Epoch [7/30]: 100%|██████████████████████████████████████████████| 42/42 [00:20<00:00,  2.04it/s, train_loss=1.82677790, val_loss=0.00000000]\n"
     ]
    },
    {
     "name": "stdout",
     "output_type": "stream",
     "text": [
      "[0.0006]\n"
     ]
    },
    {
     "name": "stderr",
     "output_type": "stream",
     "text": [
      "Training Epoch [8/30]: 100%|██████████████████████████████████████████████| 42/42 [00:20<00:00,  2.04it/s, train_loss=1.72471923, val_loss=0.00000000]\n"
     ]
    },
    {
     "name": "stdout",
     "output_type": "stream",
     "text": [
      "[0.0006]\n"
     ]
    },
    {
     "name": "stderr",
     "output_type": "stream",
     "text": [
      "Training Epoch [9/30]: 100%|██████████████████████████████████████████████| 42/42 [00:20<00:00,  2.04it/s, train_loss=1.68049619, val_loss=0.00000000]\n"
     ]
    },
    {
     "name": "stdout",
     "output_type": "stream",
     "text": [
      "[0.0006]\n"
     ]
    },
    {
     "name": "stderr",
     "output_type": "stream",
     "text": [
      "Training Epoch [10/30]: 100%|█████████████████████████████████████████████| 42/42 [00:20<00:00,  2.04it/s, train_loss=1.67141213, val_loss=0.00000000]\n"
     ]
    },
    {
     "name": "stdout",
     "output_type": "stream",
     "text": [
      "[0.00047999999999999996]\n"
     ]
    },
    {
     "name": "stderr",
     "output_type": "stream",
     "text": [
      "Training Epoch [11/30]: 100%|█████████████████████████████████████████████| 42/42 [00:20<00:00,  2.04it/s, train_loss=1.65069903, val_loss=0.00000000]\n"
     ]
    },
    {
     "name": "stdout",
     "output_type": "stream",
     "text": [
      "[0.00047999999999999996]\n"
     ]
    },
    {
     "name": "stderr",
     "output_type": "stream",
     "text": [
      "Training Epoch [12/30]: 100%|█████████████████████████████████████████████| 42/42 [00:20<00:00,  2.04it/s, train_loss=1.66753485, val_loss=0.00000000]\n"
     ]
    },
    {
     "name": "stdout",
     "output_type": "stream",
     "text": [
      "[0.00047999999999999996]\n"
     ]
    },
    {
     "name": "stderr",
     "output_type": "stream",
     "text": [
      "Training Epoch [13/30]: 100%|█████████████████████████████████████████████| 42/42 [00:20<00:00,  2.04it/s, train_loss=1.65017090, val_loss=0.00000000]\n"
     ]
    },
    {
     "name": "stdout",
     "output_type": "stream",
     "text": [
      "[0.00047999999999999996]\n"
     ]
    },
    {
     "name": "stderr",
     "output_type": "stream",
     "text": [
      "Training Epoch [14/30]: 100%|█████████████████████████████████████████████| 42/42 [00:20<00:00,  2.04it/s, train_loss=1.64025971, val_loss=0.00000000]\n"
     ]
    },
    {
     "name": "stdout",
     "output_type": "stream",
     "text": [
      "[0.00047999999999999996]\n"
     ]
    },
    {
     "name": "stderr",
     "output_type": "stream",
     "text": [
      "Training Epoch [15/30]: 100%|█████████████████████████████████████████████| 42/42 [00:20<00:00,  2.04it/s, train_loss=1.64105651, val_loss=0.00000000]\n"
     ]
    },
    {
     "name": "stdout",
     "output_type": "stream",
     "text": [
      "[0.00047999999999999996]\n"
     ]
    },
    {
     "name": "stderr",
     "output_type": "stream",
     "text": [
      "Training Epoch [16/30]: 100%|█████████████████████████████████████████████| 42/42 [00:20<00:00,  2.04it/s, train_loss=1.61041703, val_loss=0.00000000]\n"
     ]
    },
    {
     "name": "stdout",
     "output_type": "stream",
     "text": [
      "[0.00047999999999999996]\n"
     ]
    },
    {
     "name": "stderr",
     "output_type": "stream",
     "text": [
      "Training Epoch [17/30]: 100%|█████████████████████████████████████████████| 42/42 [00:20<00:00,  2.04it/s, train_loss=1.62857408, val_loss=0.00000000]\n"
     ]
    },
    {
     "name": "stdout",
     "output_type": "stream",
     "text": [
      "[0.00047999999999999996]\n"
     ]
    },
    {
     "name": "stderr",
     "output_type": "stream",
     "text": [
      "Training Epoch [18/30]: 100%|█████████████████████████████████████████████| 42/42 [00:20<00:00,  2.04it/s, train_loss=1.60546876, val_loss=0.00000000]\n"
     ]
    },
    {
     "name": "stdout",
     "output_type": "stream",
     "text": [
      "[0.00047999999999999996]\n"
     ]
    },
    {
     "name": "stderr",
     "output_type": "stream",
     "text": [
      "Training Epoch [19/30]: 100%|█████████████████████████████████████████████| 42/42 [00:20<00:00,  2.04it/s, train_loss=1.56564076, val_loss=0.00000000]\n"
     ]
    },
    {
     "name": "stdout",
     "output_type": "stream",
     "text": [
      "[0.00047999999999999996]\n"
     ]
    },
    {
     "name": "stderr",
     "output_type": "stream",
     "text": [
      "Training Epoch [20/30]: 100%|█████████████████████████████████████████████| 42/42 [00:20<00:00,  2.03it/s, train_loss=1.47669083, val_loss=0.00000000]\n"
     ]
    },
    {
     "name": "stdout",
     "output_type": "stream",
     "text": [
      "[0.000384]\n"
     ]
    },
    {
     "name": "stderr",
     "output_type": "stream",
     "text": [
      "Training Epoch [21/30]: 100%|█████████████████████████████████████████████| 42/42 [00:20<00:00,  2.03it/s, train_loss=1.45663601, val_loss=0.00000000]\n"
     ]
    },
    {
     "name": "stdout",
     "output_type": "stream",
     "text": [
      "[0.000384]\n"
     ]
    },
    {
     "name": "stderr",
     "output_type": "stream",
     "text": [
      "Training Epoch [22/30]: 100%|█████████████████████████████████████████████| 42/42 [00:20<00:00,  2.04it/s, train_loss=1.43661156, val_loss=0.00000000]\n"
     ]
    },
    {
     "name": "stdout",
     "output_type": "stream",
     "text": [
      "[0.000384]\n"
     ]
    },
    {
     "name": "stderr",
     "output_type": "stream",
     "text": [
      "Training Epoch [23/30]: 100%|█████████████████████████████████████████████| 42/42 [00:20<00:00,  2.04it/s, train_loss=1.47318802, val_loss=0.00000000]\n"
     ]
    },
    {
     "name": "stdout",
     "output_type": "stream",
     "text": [
      "[0.000384]\n"
     ]
    },
    {
     "name": "stderr",
     "output_type": "stream",
     "text": [
      "Training Epoch [24/30]: 100%|█████████████████████████████████████████████| 42/42 [00:20<00:00,  2.04it/s, train_loss=1.34273898, val_loss=0.00000000]\n"
     ]
    },
    {
     "name": "stdout",
     "output_type": "stream",
     "text": [
      "[0.000384]\n"
     ]
    },
    {
     "name": "stderr",
     "output_type": "stream",
     "text": [
      "Training Epoch [25/30]: 100%|█████████████████████████████████████████████| 42/42 [00:20<00:00,  2.05it/s, train_loss=1.39856728, val_loss=0.00000000]\n"
     ]
    },
    {
     "name": "stdout",
     "output_type": "stream",
     "text": [
      "[0.000384]\n"
     ]
    },
    {
     "name": "stderr",
     "output_type": "stream",
     "text": [
      "Training Epoch [26/30]: 100%|█████████████████████████████████████████████| 42/42 [00:20<00:00,  2.04it/s, train_loss=1.28867758, val_loss=0.00000000]\n"
     ]
    },
    {
     "name": "stdout",
     "output_type": "stream",
     "text": [
      "[0.000384]\n"
     ]
    },
    {
     "name": "stderr",
     "output_type": "stream",
     "text": [
      "Training Epoch [27/30]: 100%|█████████████████████████████████████████████| 42/42 [00:20<00:00,  2.04it/s, train_loss=1.30358984, val_loss=0.00000000]\n"
     ]
    },
    {
     "name": "stdout",
     "output_type": "stream",
     "text": [
      "[0.000384]\n"
     ]
    },
    {
     "name": "stderr",
     "output_type": "stream",
     "text": [
      "Training Epoch [28/30]: 100%|█████████████████████████████████████████████| 42/42 [00:20<00:00,  2.04it/s, train_loss=1.23277333, val_loss=0.00000000]\n"
     ]
    },
    {
     "name": "stdout",
     "output_type": "stream",
     "text": [
      "[0.000384]\n"
     ]
    },
    {
     "name": "stderr",
     "output_type": "stream",
     "text": [
      "Training Epoch [29/30]: 100%|█████████████████████████████████████████████| 42/42 [00:20<00:00,  2.04it/s, train_loss=1.19403354, val_loss=0.00000000]\n"
     ]
    },
    {
     "name": "stdout",
     "output_type": "stream",
     "text": [
      "[0.000384]\n"
     ]
    },
    {
     "name": "stderr",
     "output_type": "stream",
     "text": [
      "Training Epoch [30/30]: 100%|█████████████████████████████████████████████| 42/42 [00:20<00:00,  2.02it/s, train_loss=1.19152871, val_loss=0.00000000]\n"
     ]
    },
    {
     "name": "stdout",
     "output_type": "stream",
     "text": [
      "[0.00030720000000000004]\n",
      "{'learning rate': 0.0006, 'beta1': 0.9, 'beta2': 0.999, 'step size': 10, 'gamma': 0.9}\n"
     ]
    },
    {
     "name": "stderr",
     "output_type": "stream",
     "text": [
      "Training Epoch [1/30]: 100%|█████████████████████████████████████████████| 42/42 [00:20<00:00,  2.03it/s, train_loss=18.55948432, val_loss=0.00000000]\n"
     ]
    },
    {
     "name": "stdout",
     "output_type": "stream",
     "text": [
      "[0.0006]\n"
     ]
    },
    {
     "name": "stderr",
     "output_type": "stream",
     "text": [
      "Training Epoch [2/30]: 100%|██████████████████████████████████████████████| 42/42 [00:20<00:00,  2.04it/s, train_loss=4.82222950, val_loss=0.00000000]\n"
     ]
    },
    {
     "name": "stdout",
     "output_type": "stream",
     "text": [
      "[0.0006]\n"
     ]
    },
    {
     "name": "stderr",
     "output_type": "stream",
     "text": [
      "Training Epoch [3/30]: 100%|██████████████████████████████████████████████| 42/42 [00:20<00:00,  2.03it/s, train_loss=3.41301666, val_loss=0.00000000]\n"
     ]
    },
    {
     "name": "stdout",
     "output_type": "stream",
     "text": [
      "[0.0006]\n"
     ]
    },
    {
     "name": "stderr",
     "output_type": "stream",
     "text": [
      "Training Epoch [4/30]: 100%|██████████████████████████████████████████████| 42/42 [00:20<00:00,  2.03it/s, train_loss=2.80673429, val_loss=0.00000000]\n"
     ]
    },
    {
     "name": "stdout",
     "output_type": "stream",
     "text": [
      "[0.0006]\n"
     ]
    },
    {
     "name": "stderr",
     "output_type": "stream",
     "text": [
      "Training Epoch [5/30]: 100%|██████████████████████████████████████████████| 42/42 [00:20<00:00,  2.04it/s, train_loss=2.17359640, val_loss=0.00000000]\n"
     ]
    },
    {
     "name": "stdout",
     "output_type": "stream",
     "text": [
      "[0.0006]\n"
     ]
    },
    {
     "name": "stderr",
     "output_type": "stream",
     "text": [
      "Training Epoch [6/30]: 100%|██████████████████████████████████████████████| 42/42 [00:20<00:00,  2.04it/s, train_loss=1.84128545, val_loss=0.00000000]\n"
     ]
    },
    {
     "name": "stdout",
     "output_type": "stream",
     "text": [
      "[0.0006]\n"
     ]
    },
    {
     "name": "stderr",
     "output_type": "stream",
     "text": [
      "Training Epoch [7/30]: 100%|██████████████████████████████████████████████| 42/42 [00:20<00:00,  2.04it/s, train_loss=1.70473729, val_loss=0.00000000]\n"
     ]
    },
    {
     "name": "stdout",
     "output_type": "stream",
     "text": [
      "[0.0006]\n"
     ]
    },
    {
     "name": "stderr",
     "output_type": "stream",
     "text": [
      "Training Epoch [8/30]: 100%|██████████████████████████████████████████████| 42/42 [00:20<00:00,  2.03it/s, train_loss=1.69365885, val_loss=0.00000000]\n"
     ]
    },
    {
     "name": "stdout",
     "output_type": "stream",
     "text": [
      "[0.0006]\n"
     ]
    },
    {
     "name": "stderr",
     "output_type": "stream",
     "text": [
      "Training Epoch [9/30]: 100%|██████████████████████████████████████████████| 42/42 [00:20<00:00,  2.02it/s, train_loss=1.66158425, val_loss=0.00000000]\n"
     ]
    },
    {
     "name": "stdout",
     "output_type": "stream",
     "text": [
      "[0.0006]\n"
     ]
    },
    {
     "name": "stderr",
     "output_type": "stream",
     "text": [
      "Training Epoch [10/30]: 100%|█████████████████████████████████████████████| 42/42 [00:20<00:00,  2.03it/s, train_loss=1.66009219, val_loss=0.00000000]\n"
     ]
    },
    {
     "name": "stdout",
     "output_type": "stream",
     "text": [
      "[0.00054]\n"
     ]
    },
    {
     "name": "stderr",
     "output_type": "stream",
     "text": [
      "Training Epoch [11/30]: 100%|█████████████████████████████████████████████| 42/42 [00:20<00:00,  2.03it/s, train_loss=1.66434734, val_loss=0.00000000]\n"
     ]
    },
    {
     "name": "stdout",
     "output_type": "stream",
     "text": [
      "[0.00054]\n"
     ]
    },
    {
     "name": "stderr",
     "output_type": "stream",
     "text": [
      "Training Epoch [12/30]: 100%|█████████████████████████████████████████████| 42/42 [00:20<00:00,  2.02it/s, train_loss=1.68104569, val_loss=0.00000000]\n"
     ]
    },
    {
     "name": "stdout",
     "output_type": "stream",
     "text": [
      "[0.00054]\n"
     ]
    },
    {
     "name": "stderr",
     "output_type": "stream",
     "text": [
      "Training Epoch [13/30]: 100%|█████████████████████████████████████████████| 42/42 [00:20<00:00,  2.03it/s, train_loss=1.64115827, val_loss=0.00000000]\n"
     ]
    },
    {
     "name": "stdout",
     "output_type": "stream",
     "text": [
      "[0.00054]\n"
     ]
    },
    {
     "name": "stderr",
     "output_type": "stream",
     "text": [
      "Training Epoch [14/30]: 100%|█████████████████████████████████████████████| 42/42 [00:20<00:00,  2.03it/s, train_loss=1.64146203, val_loss=0.00000000]\n"
     ]
    },
    {
     "name": "stdout",
     "output_type": "stream",
     "text": [
      "[0.00054]\n"
     ]
    },
    {
     "name": "stderr",
     "output_type": "stream",
     "text": [
      "Training Epoch [15/30]: 100%|█████████████████████████████████████████████| 42/42 [00:20<00:00,  2.03it/s, train_loss=1.63807486, val_loss=0.00000000]\n"
     ]
    },
    {
     "name": "stdout",
     "output_type": "stream",
     "text": [
      "[0.00054]\n"
     ]
    },
    {
     "name": "stderr",
     "output_type": "stream",
     "text": [
      "Training Epoch [16/30]: 100%|█████████████████████████████████████████████| 42/42 [00:20<00:00,  2.04it/s, train_loss=1.62813196, val_loss=0.00000000]\n"
     ]
    },
    {
     "name": "stdout",
     "output_type": "stream",
     "text": [
      "[0.00054]\n"
     ]
    },
    {
     "name": "stderr",
     "output_type": "stream",
     "text": [
      "Training Epoch [17/30]: 100%|█████████████████████████████████████████████| 42/42 [00:20<00:00,  2.03it/s, train_loss=1.65092900, val_loss=0.00000000]\n"
     ]
    },
    {
     "name": "stdout",
     "output_type": "stream",
     "text": [
      "[0.00054]\n"
     ]
    },
    {
     "name": "stderr",
     "output_type": "stream",
     "text": [
      "Training Epoch [18/30]: 100%|█████████████████████████████████████████████| 42/42 [00:20<00:00,  2.02it/s, train_loss=1.65064690, val_loss=0.00000000]\n"
     ]
    },
    {
     "name": "stdout",
     "output_type": "stream",
     "text": [
      "[0.00054]\n"
     ]
    },
    {
     "name": "stderr",
     "output_type": "stream",
     "text": [
      "Training Epoch [19/30]: 100%|█████████████████████████████████████████████| 42/42 [00:20<00:00,  2.03it/s, train_loss=1.63267760, val_loss=0.00000000]\n"
     ]
    },
    {
     "name": "stdout",
     "output_type": "stream",
     "text": [
      "[0.00054]\n"
     ]
    },
    {
     "name": "stderr",
     "output_type": "stream",
     "text": [
      "Training Epoch [20/30]: 100%|█████████████████████████████████████████████| 42/42 [00:20<00:00,  2.02it/s, train_loss=1.66715451, val_loss=0.00000000]\n"
     ]
    },
    {
     "name": "stdout",
     "output_type": "stream",
     "text": [
      "[0.000486]\n"
     ]
    },
    {
     "name": "stderr",
     "output_type": "stream",
     "text": [
      "Training Epoch [21/30]: 100%|█████████████████████████████████████████████| 42/42 [00:20<00:00,  2.03it/s, train_loss=1.63786916, val_loss=0.00000000]\n"
     ]
    },
    {
     "name": "stdout",
     "output_type": "stream",
     "text": [
      "[0.000486]\n"
     ]
    },
    {
     "name": "stderr",
     "output_type": "stream",
     "text": [
      "Training Epoch [22/30]: 100%|█████████████████████████████████████████████| 42/42 [00:20<00:00,  2.04it/s, train_loss=1.63249925, val_loss=0.00000000]\n"
     ]
    },
    {
     "name": "stdout",
     "output_type": "stream",
     "text": [
      "[0.000486]\n"
     ]
    },
    {
     "name": "stderr",
     "output_type": "stream",
     "text": [
      "Training Epoch [23/30]: 100%|█████████████████████████████████████████████| 42/42 [00:20<00:00,  2.03it/s, train_loss=1.64836825, val_loss=0.00000000]\n"
     ]
    },
    {
     "name": "stdout",
     "output_type": "stream",
     "text": [
      "[0.000486]\n"
     ]
    },
    {
     "name": "stderr",
     "output_type": "stream",
     "text": [
      "Training Epoch [24/30]: 100%|█████████████████████████████████████████████| 42/42 [00:20<00:00,  2.04it/s, train_loss=1.62331602, val_loss=0.00000000]\n"
     ]
    },
    {
     "name": "stdout",
     "output_type": "stream",
     "text": [
      "[0.000486]\n"
     ]
    },
    {
     "name": "stderr",
     "output_type": "stream",
     "text": [
      "Training Epoch [25/30]: 100%|█████████████████████████████████████████████| 42/42 [00:20<00:00,  2.03it/s, train_loss=1.62657751, val_loss=0.00000000]\n"
     ]
    },
    {
     "name": "stdout",
     "output_type": "stream",
     "text": [
      "[0.000486]\n"
     ]
    },
    {
     "name": "stderr",
     "output_type": "stream",
     "text": [
      "Training Epoch [26/30]: 100%|█████████████████████████████████████████████| 42/42 [00:20<00:00,  2.02it/s, train_loss=1.65367059, val_loss=0.00000000]\n"
     ]
    },
    {
     "name": "stdout",
     "output_type": "stream",
     "text": [
      "[0.000486]\n"
     ]
    },
    {
     "name": "stderr",
     "output_type": "stream",
     "text": [
      "Training Epoch [27/30]: 100%|█████████████████████████████████████████████| 42/42 [00:20<00:00,  2.04it/s, train_loss=1.58026193, val_loss=0.00000000]\n"
     ]
    },
    {
     "name": "stdout",
     "output_type": "stream",
     "text": [
      "[0.000486]\n"
     ]
    },
    {
     "name": "stderr",
     "output_type": "stream",
     "text": [
      "Training Epoch [28/30]: 100%|█████████████████████████████████████████████| 42/42 [00:20<00:00,  2.01it/s, train_loss=1.54330775, val_loss=0.00000000]\n"
     ]
    },
    {
     "name": "stdout",
     "output_type": "stream",
     "text": [
      "[0.000486]\n"
     ]
    },
    {
     "name": "stderr",
     "output_type": "stream",
     "text": [
      "Training Epoch [29/30]: 100%|█████████████████████████████████████████████| 42/42 [00:20<00:00,  2.00it/s, train_loss=1.50473022, val_loss=0.00000000]\n"
     ]
    },
    {
     "name": "stdout",
     "output_type": "stream",
     "text": [
      "[0.000486]\n"
     ]
    },
    {
     "name": "stderr",
     "output_type": "stream",
     "text": [
      "Training Epoch [30/30]: 100%|█████████████████████████████████████████████| 42/42 [00:20<00:00,  2.02it/s, train_loss=1.52461299, val_loss=0.00000000]\n"
     ]
    },
    {
     "name": "stdout",
     "output_type": "stream",
     "text": [
      "[0.0004374]\n"
     ]
    }
   ],
   "source": [
    "# Create Datasets and Dataloaders\n",
    "dataset_train = MyDataset(root_directory=ROOT_DIRTECTORY, mode=\"train\",\n",
    "                          transform=transform, split=hyper_parameters[\"split\"])\n",
    "print(f\"Created a new Dataset for training of length: {len(dataset_train)}\")\n",
    "dataset_validation = MyDataset(root_directory=ROOT_DIRTECTORY,\n",
    "                               mode=\"val\", transform=None, split=hyper_parameters[\"split\"])\n",
    "print(f\"Created a new Dataset for validation of length: {\n",
    "      len(dataset_validation)}\")\n",
    "dataloader_train = DataLoader(\n",
    "    dataset_train, batch_size=hyper_parameters[\"batch size\"], shuffle=True, num_workers=hyper_parameters[\"number of workers\"], drop_last=False)\n",
    "print(f\"Created a new Dataloader for training with batch size: {\n",
    "      hyper_parameters[\"batch size\"]}\")\n",
    "dataloader_validation = DataLoader(dataset_validation, batch_size=hyper_parameters[\"batch size\"], shuffle=True,\n",
    "                                   num_workers=hyper_parameters[\"number of workers\"], drop_last=False)\n",
    "print(f\"Created a new Dataloader for validation with batch size: {\n",
    "    hyper_parameters[\"batch size\"]}\")\n",
    "\n",
    "loss_function = nn.CrossEntropyLoss()\n",
    "\n",
    "\n",
    "# Perform hyperparameter search\n",
    "all_combinations = create_combinations(hyperparameter_grid)\n",
    "# random_samples = sample_hyperparameters(hyperparameter_grid, 10)\n",
    "best_hp = hyperparameter_search(loss_function, DEVICE, dataloader_train,\n",
    "                                dataloader_validation, all_combinations, hyper_parameters)"
   ]
  },
  {
   "cell_type": "code",
   "execution_count": 12,
   "metadata": {},
   "outputs": [
    {
     "name": "stdout",
     "output_type": "stream",
     "text": [
      "Best hyperparameters: {'learning rate': 0.0002, 'beta1': 0.9, 'beta2': 0.999, 'step size': 10, 'gamma': 0.8, 'input channels': 3, 'number of classes': 5, 'split': {'train': 0.6, 'val': 0.2, 'test': 0.2}, 'batch size': 32, 'number of workers': 0, 'epochs': 30, 'epsilon': 1e-08, 'weight decay': 1e-08}\n"
     ]
    }
   ],
   "source": [
    "print(f\"Best hyperparameters: {best_hp}\")\n",
    "# {'learning rate': 0.0001, 'beta1': 0.9, 'beta2': 0.999, 'step size': 10, 'gamma': 0.9, 'input channels': 3, 'number of classes': 5, 'split': {'train': 0.6, 'val': 0.2, 'test': 0.2}, 'batch size': 32, 'number of workers': 0, 'epochs': 30, 'epsilon': 1e-08, 'weight decay': 1e-08}\n",
    "\n",
    "# {'learning rate': 0.0001, 'beta1': 0.9, 'beta2': 0.999, 'step size': 10, 'gamma': 0.8, 'input channels': 3, 'number of classes': 5, 'split': {'train': 0.6, 'val': 0.2, 'test': 0.2}, 'batch size': 32, 'number of workers': 0, 'epochs': 30, 'epsilon': 1e-08, 'weight decay': 1e-08"
   ]
  },
  {
   "cell_type": "code",
   "execution_count": 13,
   "metadata": {},
   "outputs": [],
   "source": [
    "# {'learning rate': 0.0002, 'beta1': 0.9,\n",
    "#     'beta2': 0.999, 'step size': 10, 'gamma': 0.8}"
   ]
  }
 ],
 "metadata": {
  "kernelspec": {
   "display_name": "TurbineModel",
   "language": "python",
   "name": "python3"
  },
  "language_info": {
   "codemirror_mode": {
    "name": "ipython",
    "version": 3
   },
   "file_extension": ".py",
   "mimetype": "text/x-python",
   "name": "python",
   "nbconvert_exporter": "python",
   "pygments_lexer": "ipython3",
   "version": "3.12.2"
  }
 },
 "nbformat": 4,
 "nbformat_minor": 2
}
