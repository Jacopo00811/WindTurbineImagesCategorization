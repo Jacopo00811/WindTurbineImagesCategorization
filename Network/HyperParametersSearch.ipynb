{
 "cells": [
  {
   "cell_type": "code",
   "execution_count": 35,
   "metadata": {},
   "outputs": [
    {
     "name": "stdout",
     "output_type": "stream",
     "text": [
      "The autoreload extension is already loaded. To reload it, use:\n",
      "  %reload_ext autoreload\n"
     ]
    }
   ],
   "source": [
    "import torch\n",
    "import torch.nn as nn\n",
    "import torch.optim as optim\n",
    "import numpy as np\n",
    "from torchvision.transforms import v2 as transformsV2\n",
    "from torchvision.utils import make_grid\n",
    "from torch.utils.data import DataLoader\n",
    "from Dataset import MyDataset\n",
    "from tqdm import tqdm\n",
    "from Network import MyNetwork\n",
    "import os\n",
    "from torch.utils.tensorboard.writer import SummaryWriter\n",
    "import itertools\n",
    "import random\n",
    "\n",
    "%load_ext autoreload\n",
    "%autoreload 2\n",
    "\n",
    "os.environ['KMP_DUPLICATE_LIB_OK']='True' # To prevent the kernel from dying\n"
   ]
  },
  {
   "cell_type": "code",
   "execution_count": 36,
   "metadata": {},
   "outputs": [],
   "source": [
    "def create_tqdm_bar(iterable, desc):\n",
    "    return tqdm(enumerate(iterable), total=len(iterable), ncols=150, desc=desc)\n",
    "\n",
    "\n",
    "# Function to create all combinations of hyperparameters\n",
    "def create_combinations(hyperparameter_grid):\n",
    "    keys, values = zip(*hyperparameter_grid.items())\n",
    "    return [dict(zip(keys, v)) for v in itertools.product(*values)]\n",
    "\n",
    "\n",
    "# Function to randomly sample hyperparameters\n",
    "def sample_hyperparameters(hyperparameter_grid, num_samples):\n",
    "    samples = []\n",
    "    for _ in range(num_samples):\n",
    "        sample = {}\n",
    "        for key, values in hyperparameter_grid.items():\n",
    "            sample[key] = random.choice(values)\n",
    "        samples.append(sample)\n",
    "    return samples"
   ]
  },
  {
   "cell_type": "code",
   "execution_count": 37,
   "metadata": {},
   "outputs": [],
   "source": [
    "def add_layer_weight_histograms(model, logger, model_name):\n",
    "    for name, module in model.named_modules():\n",
    "        if isinstance(module, torch.nn.Conv2d) or isinstance(module, torch.nn.Linear):\n",
    "            logger.add_histogram(f\"{model_name}/{name}.weights\", module.weight)"
   ]
  },
  {
   "cell_type": "code",
   "execution_count": 38,
   "metadata": {},
   "outputs": [
    {
     "name": "stdout",
     "output_type": "stream",
     "text": [
      "Device in use: cuda:0\n"
     ]
    }
   ],
   "source": [
    "MEAN = np.array([0.5750, 0.6065, 0.6459])\n",
    "STD = np.array([0.1854, 0.1748, 0.1794])\n",
    "CLASSES = [\"0\", \"1\", \"2\", \"3\", \"4\"]\n",
    "ROOT_DIRECTORY = \"c:\\\\Users\\\\jacop\\\\Desktop\\\\BSc\\\\Code\\\\WindTurbineImagesCategorization\\\\Data\\\\Dataset\"\n",
    "# ROOT_DIRECTORY = \"/zhome/f9/0/168881/Desktop/WindTurbineImagesCategorization/Data/Dataset\"\n",
    "DEVICE = torch.device(\"cuda:0\" if torch.cuda.is_available() else \"cpu\")\n",
    "print(f\"Device in use: {DEVICE}\")\n",
    "hyper_parameters = {\n",
    "    \"network name\": \"MyNetwork\",\n",
    "    \"input channels\": 3,\n",
    "    \"number of classes\": 5,\n",
    "    \"split\": {\"train\": 0.6, \"val\": 0.2, \"test\": 0.2},\n",
    "    \"number of workers\": 0,\n",
    "    \"epochs\": 42,\n",
    "    \"epsilon\": 1e-08,\n",
    "    \"weight decay\": 1e-08,\n",
    "    'beta1': 0.9,\n",
    "    'beta2': 0.999,\n",
    "    'step size': 14,\n",
    "}"
   ]
  },
  {
   "cell_type": "code",
   "execution_count": 39,
   "metadata": {},
   "outputs": [],
   "source": [
    "# logs_dir = 'WindTurbineImagesCategorization\\\\Network\\\\tests'\n",
    "logs_dir = \"runs\"\n",
    "os.makedirs(logs_dir, exist_ok=True)\n",
    "run_dir = os.path.join(logs_dir, f'run_')"
   ]
  },
  {
   "cell_type": "code",
   "execution_count": 40,
   "metadata": {},
   "outputs": [],
   "source": [
    "transform = transformsV2.Compose([\n",
    "    transformsV2.Pad(300, padding_mode=\"reflect\"),\n",
    "    transformsV2.RandomHorizontalFlip(p=0.5),\n",
    "    transformsV2.RandomVerticalFlip(p=0.5),\n",
    "    transformsV2.RandomAdjustSharpness(sharpness_factor=2, p=0.5),\n",
    "    transformsV2.RandomAutocontrast(p=0.5),\n",
    "    transformsV2.RandomRotation(degrees=[0, 90]),\n",
    "    transformsV2.ColorJitter(brightness=0.25, saturation=0.20),\n",
    "    transformsV2.CenterCrop(224),\n",
    "    transformsV2.Resize((224, 224)),  # Adjustable\n",
    "    transformsV2.ToImage(),                          # Replace deprecated ToTensor()\n",
    "    # Replace deprecated ToTensor()\n",
    "    transformsV2.ToDtype(torch.float32, scale=True),\n",
    "    transformsV2.Normalize(mean=MEAN.tolist(), std=STD.tolist()),\n",
    "])"
   ]
  },
  {
   "cell_type": "code",
   "execution_count": 41,
   "metadata": {},
   "outputs": [],
   "source": [
    "def train_and_validate_net(model, loss_function, device, dataloader_train, dataloader_validation, optimizer, hyper_parameters, logger, scheduler, name=\"default\"):\n",
    "    epochs = hyper_parameters[\"epochs\"]\n",
    "    all_train_losses = []\n",
    "    all_val_losses = []\n",
    "    all_accuracies = []\n",
    "    validation_loss = 0\n",
    "    for epoch in range(epochs):  # loop over the dataset multiple times\n",
    "\n",
    "        \"\"\"    Train step for one batch of data    \"\"\"\n",
    "        training_loop = create_tqdm_bar(\n",
    "            dataloader_train, desc=f'Training Epoch [{epoch+1}/{epochs}]')\n",
    "\n",
    "        training_loss = 0\n",
    "        model.train()  # Set the model to training mode\n",
    "        train_losses = []\n",
    "        accuracies = []\n",
    "        for train_iteration, batch in training_loop:\n",
    "            optimizer.zero_grad()  # Reset the parameter gradients for the current minibatch iteration\n",
    "\n",
    "            images, labels = batch\n",
    "            labels -= 1  # Change the labels to start from 0\n",
    "            labels = labels.type(torch.LongTensor)\n",
    "\n",
    "            labels = labels.to(device)\n",
    "            images = images.to(device)\n",
    "\n",
    "            # Forward pass, backward pass and optimizer step\n",
    "            predicted_labels = model(images)\n",
    "            loss_train = loss_function(predicted_labels, labels)\n",
    "            loss_train.backward()\n",
    "            optimizer.step()\n",
    "\n",
    "            # Accumulate the loss and calculate the accuracy of predictions\n",
    "            training_loss += loss_train.item()\n",
    "            train_losses.append(loss_train.item())\n",
    "\n",
    "            # Uncomment to display images in tesnorboard\n",
    "            # img_grid = make_grid(images)\n",
    "            # logger.add_image(f\"{name}/batch images\", img_grid, epoch)\n",
    "\n",
    "            # Add the model graph to tensorboard\n",
    "            if epoch == 0 and train_iteration == 0:\n",
    "                logger.add_graph(model, images)\n",
    "\n",
    "            # Running train accuracy\n",
    "            _, predicted = predicted_labels.max(1)\n",
    "            num_correct = (predicted == labels).sum()\n",
    "            train_accuracy = float(num_correct)/float(images.shape[0])\n",
    "            accuracies.append(train_accuracy)\n",
    "\n",
    "            features = images.reshape(images.shape[0], -1)\n",
    "            class_labels = [CLASSES[label] for label in predicted]  # predicted\n",
    "\n",
    "            if epoch > 20 and train_iteration == 5:  # Only the 5th iteration of each epoch after the 20th epoch\n",
    "                logger.add_embedding(\n",
    "                    features, metadata=class_labels, label_img=images, global_step=epoch, tag=f'{name}/Embedding')\n",
    "\n",
    "            training_loop.set_postfix(train_loss=\"{:.8f}\".format(\n",
    "                training_loss / (train_iteration + 1)), val_loss=\"{:.8f}\".format(validation_loss))\n",
    "\n",
    "            logger.add_scalar(f'{name}/Train loss', loss_train.item(),\n",
    "                              epoch*len(dataloader_train)+train_iteration)\n",
    "            logger.add_scalar(f'{name}/Train accuracy', train_accuracy,\n",
    "                              epoch*len(dataloader_train)+train_iteration)\n",
    "        all_train_losses.append(sum(train_losses)/len(train_losses))\n",
    "        all_accuracies.append(sum(accuracies)/len(accuracies))\n",
    "\n",
    "        \"\"\"    Validation step for one batch of data    \"\"\"\n",
    "        val_loop = create_tqdm_bar(\n",
    "            dataloader_validation, desc=f'Validation Epoch [{epoch+1}/{epochs}]')\n",
    "        validation_loss = 0\n",
    "        val_losses = []\n",
    "        model.eval()  # Set the model to evaluation mode\n",
    "        with torch.no_grad():\n",
    "            for val_iteration, batch in val_loop:\n",
    "                images, labels = batch\n",
    "                labels -= 1  # Change the labels to start from 0\n",
    "                labels = labels.type(torch.LongTensor)\n",
    "\n",
    "                images = images.to(device)\n",
    "                labels = labels.to(device)\n",
    "\n",
    "                # Forward pass\n",
    "                output = model(images)\n",
    "\n",
    "                # Calculate the loss\n",
    "                loss_val = loss_function(output, labels)\n",
    "\n",
    "                validation_loss += loss_val.item()\n",
    "                val_losses.append(loss_val.item())\n",
    "\n",
    "                val_loop.set_postfix(val_loss=\"{:.8f}\".format(\n",
    "                    validation_loss/(val_iteration+1)))\n",
    "\n",
    "                # Update the tensorboard logger.\n",
    "                logger.add_scalar(f'{name}/Validation loss', validation_loss/(\n",
    "                    val_iteration+1), epoch*len(dataloader_validation)+val_iteration)\n",
    "            all_val_losses.append(sum(val_losses)/len(val_losses))\n",
    "\n",
    "        # This value is for the progress bar of the training loop.\n",
    "        validation_loss /= len(dataloader_validation)\n",
    "\n",
    "        add_layer_weight_histograms(model, logger, name)\n",
    "        logger.add_scalars(f'{name}/Combined', {'Validation loss': validation_loss,\n",
    "                                                'Train loss': training_loss/len(dataloader_train)}, epoch)\n",
    "        scheduler.step()\n",
    "        print(f\"Current learning rate: {scheduler.get_last_lr()}\")\n",
    "    logger.add_hparams(\n",
    "        {'Lr': scheduler.get_last_lr(\n",
    "        )[0], 'Batch_size': hyper_parameters[\"batch size\"], 'Gamma': hyper_parameters[\"gamma\"]},\n",
    "        {f'Avg train loss': sum(all_train_losses)/len(all_train_losses),\n",
    "            f'Avg accuracy': sum(all_accuracies)/len(all_accuracies),\n",
    "            f'Avg val loss': sum(all_val_losses)/len(all_val_losses)}\n",
    "    )\n",
    "    print('-------------- Finished training a new model! --------------\\n')\n",
    "\n",
    "    return {\"Avg train loss\": sum(all_train_losses)/len(all_train_losses), \"Avg accuracy\": sum(all_accuracies)/len(all_accuracies), \"Avg val loss\": sum(all_val_losses)/len(all_val_losses)}"
   ]
  },
  {
   "cell_type": "code",
   "execution_count": 42,
   "metadata": {},
   "outputs": [],
   "source": [
    "# Define your hyperparameter grid\n",
    "hyperparameter_grid = {\n",
    "    'learning rate': [0.0005, 0.0001, 0.001, 0.005],\n",
    "    'gamma': [0.8, 0.9, 0.7],\n",
    "    'batch size': [32, 64, 128],\n",
    "}"
   ]
  },
  {
   "cell_type": "code",
   "execution_count": 43,
   "metadata": {},
   "outputs": [],
   "source": [
    "def hyperparameter_search(loss_function, device, dataset_train, dataset_validation, hyperparameter_grid, missing_hp):\n",
    "    # Initialize with a large value for minimization problems\n",
    "    best_performance = float('inf')\n",
    "    best_hyperparameters = None\n",
    "    run_counter = 0\n",
    "    for hyper_parameters in hyperparameter_grid:\n",
    "        # Empty memory before start\n",
    "        if torch.cuda.is_available():\n",
    "            torch.cuda.empty_cache()\n",
    "\n",
    "        print(f\"Current hyper parameters: {hyper_parameters}\")\n",
    "        hyper_parameters.update(missing_hp)\n",
    "        # Initialize model, optimizer, scheduler, logger, dataloader\n",
    "        dataloader_train = DataLoader(\n",
    "            dataset_train, batch_size=hyper_parameters[\"batch size\"], shuffle=True, num_workers=hyper_parameters[\"number of workers\"], drop_last=False)\n",
    "        print(f\"Created a new Dataloader for training with batch size: {\n",
    "            hyper_parameters[\"batch size\"]}\")\n",
    "        dataloader_validation = DataLoader(dataset_validation, batch_size=hyper_parameters[\"batch size\"], shuffle=True,\n",
    "                                           num_workers=hyper_parameters[\"number of workers\"], drop_last=False)\n",
    "        print(f\"Created a new Dataloader for validation with batch size: {\n",
    "            hyper_parameters[\"batch size\"]}\")\n",
    "        model = MyNetwork(hyper_parameters)\n",
    "        model.weight_initialization()\n",
    "        model.to(DEVICE)\n",
    "\n",
    "        optimizer = optim.Adam(model.parameters(),\n",
    "                               lr=hyper_parameters[\"learning rate\"],\n",
    "                               betas=(hyper_parameters[\"beta1\"],\n",
    "                                      hyper_parameters[\"beta2\"]),\n",
    "                               weight_decay=hyper_parameters[\"weight decay\"],\n",
    "                               eps=hyper_parameters[\"epsilon\"])\n",
    "\n",
    "        scheduler = torch.optim.lr_scheduler.StepLR(\n",
    "            optimizer, step_size=hyper_parameters[\"step size\"], gamma=hyper_parameters[\"gamma\"])\n",
    "\n",
    "        # logger = SummaryWriter(run_dir+f\"V4_\"+str(run_counter),\n",
    "        #                        comment=f'LR_{hyper_parameters[\"learning rate\"]}')\n",
    "        logger = SummaryWriter(run_dir+str(run_counter)+f\" batch size_{hyper_parameters['batch size']} lr_{\n",
    "                               hyper_parameters['learning rate']} gamma_{hyper_parameters['gamma']}\")\n",
    "\n",
    "        # Train the model\n",
    "        dict = train_and_validate_net(model, loss_function, device, dataloader_train, dataloader_validation,\n",
    "                                      optimizer, hyper_parameters, logger, scheduler, name=hyper_parameters[\"network name\"])\n",
    "\n",
    "        run_counter += 1\n",
    "\n",
    "        # Update best hyperparameters if the current model has better performance\n",
    "        if dict[\"Avg val loss\"] < best_performance:\n",
    "            best_performance = dict[\"Avg val loss\"]\n",
    "            best_hyperparameters = hyper_parameters\n",
    "\n",
    "        logger.close()\n",
    "    print(f\"\\n\\n############### Finished hyperparameter search! ###############\")\n",
    "\n",
    "    return best_hyperparameters"
   ]
  },
  {
   "cell_type": "code",
   "execution_count": 44,
   "metadata": {},
   "outputs": [
    {
     "name": "stdout",
     "output_type": "stream",
     "text": [
      "Created a new Dataset for training of length: 1320\n",
      "Created a new Dataset for validation of length: 440\n",
      "\n",
      "Number of combinations: 36 (amount of models to test)\n",
      "\n",
      "\n",
      "Current hyper parameters: {'learning rate': 0.0005, 'gamma': 0.8, 'batch size': 32}\n",
      "Created a new Dataloader for training with batch size: 32\n",
      "Created a new Dataloader for validation with batch size: 32\n"
     ]
    },
    {
     "name": "stderr",
     "output_type": "stream",
     "text": [
      "Training Epoch [1/42]: 100%|█████████████████████████████████████████████| 42/42 [01:46<00:00,  2.53s/it, train_loss=18.54651586, val_loss=0.00000000]\n",
      "Validation Epoch [1/42]: 100%|███████████████████████████████████████████████████████████████████| 14/14 [00:03<00:00,  4.02it/s, val_loss=3.02291329]\n"
     ]
    },
    {
     "name": "stdout",
     "output_type": "stream",
     "text": [
      "Current learning rate: [0.0005]\n"
     ]
    },
    {
     "name": "stderr",
     "output_type": "stream",
     "text": [
      "Training Epoch [2/42]:   2%|█                                              | 1/42 [00:05<03:28,  5.10s/it, train_loss=6.54132700, val_loss=3.02291329]\n"
     ]
    },
    {
     "ename": "KeyboardInterrupt",
     "evalue": "",
     "output_type": "error",
     "traceback": [
      "\u001b[1;31m---------------------------------------------------------------------------\u001b[0m",
      "\u001b[1;31mKeyboardInterrupt\u001b[0m                         Traceback (most recent call last)",
      "Cell \u001b[1;32mIn[44], line 19\u001b[0m\n\u001b[0;32m     15\u001b[0m \u001b[38;5;66;03m# random_samples = sample_hyperparameters(hyperparameter_grid, 10)\u001b[39;00m\n\u001b[0;32m     17\u001b[0m \u001b[38;5;28mprint\u001b[39m(\u001b[38;5;124mf\u001b[39m\u001b[38;5;124m\"\u001b[39m\u001b[38;5;124mNumber of combinations: \u001b[39m\u001b[38;5;132;01m{\u001b[39;00m\n\u001b[0;32m     18\u001b[0m \u001b[38;5;250m      \u001b[39m\u001b[38;5;28mlen\u001b[39m(all_combinations)\u001b[38;5;132;01m}\u001b[39;00m\u001b[38;5;124m (amount of models to test)\u001b[39m\u001b[38;5;130;01m\\n\u001b[39;00m\u001b[38;5;130;01m\\n\u001b[39;00m\u001b[38;5;124m\"\u001b[39m)\n\u001b[1;32m---> 19\u001b[0m best_hp \u001b[38;5;241m=\u001b[39m \u001b[43mhyperparameter_search\u001b[49m\u001b[43m(\u001b[49m\n\u001b[0;32m     20\u001b[0m \u001b[43m    \u001b[49m\u001b[43mloss_function\u001b[49m\u001b[43m,\u001b[49m\u001b[43m \u001b[49m\u001b[43mDEVICE\u001b[49m\u001b[43m,\u001b[49m\u001b[43m \u001b[49m\u001b[43mdataset_train\u001b[49m\u001b[43m,\u001b[49m\u001b[43m \u001b[49m\u001b[43mdataset_validation\u001b[49m\u001b[43m,\u001b[49m\u001b[43m \u001b[49m\u001b[43mall_combinations\u001b[49m\u001b[43m,\u001b[49m\u001b[43m \u001b[49m\u001b[43mhyper_parameters\u001b[49m\u001b[43m)\u001b[49m\n",
      "Cell \u001b[1;32mIn[43], line 42\u001b[0m, in \u001b[0;36mhyperparameter_search\u001b[1;34m(loss_function, device, dataset_train, dataset_validation, hyperparameter_grid, missing_hp)\u001b[0m\n\u001b[0;32m     38\u001b[0m logger \u001b[38;5;241m=\u001b[39m SummaryWriter(run_dir\u001b[38;5;241m+\u001b[39m\u001b[38;5;28mstr\u001b[39m(run_counter)\u001b[38;5;241m+\u001b[39m\u001b[38;5;124mf\u001b[39m\u001b[38;5;124m\"\u001b[39m\u001b[38;5;124m batch size_\u001b[39m\u001b[38;5;132;01m{\u001b[39;00mhyper_parameters[\u001b[38;5;124m'\u001b[39m\u001b[38;5;124mbatch size\u001b[39m\u001b[38;5;124m'\u001b[39m]\u001b[38;5;132;01m}\u001b[39;00m\u001b[38;5;124m lr_\u001b[39m\u001b[38;5;132;01m{\u001b[39;00m\n\u001b[0;32m     39\u001b[0m \u001b[38;5;250m                       \u001b[39mhyper_parameters[\u001b[38;5;124m'\u001b[39m\u001b[38;5;124mlearning rate\u001b[39m\u001b[38;5;124m'\u001b[39m]\u001b[38;5;132;01m}\u001b[39;00m\u001b[38;5;124m gamma_\u001b[39m\u001b[38;5;132;01m{\u001b[39;00mhyper_parameters[\u001b[38;5;124m'\u001b[39m\u001b[38;5;124mgamma\u001b[39m\u001b[38;5;124m'\u001b[39m]\u001b[38;5;132;01m}\u001b[39;00m\u001b[38;5;124m\"\u001b[39m)\n\u001b[0;32m     41\u001b[0m \u001b[38;5;66;03m# Train the model\u001b[39;00m\n\u001b[1;32m---> 42\u001b[0m \u001b[38;5;28mdict\u001b[39m \u001b[38;5;241m=\u001b[39m \u001b[43mtrain_and_validate_net\u001b[49m\u001b[43m(\u001b[49m\u001b[43mmodel\u001b[49m\u001b[43m,\u001b[49m\u001b[43m \u001b[49m\u001b[43mloss_function\u001b[49m\u001b[43m,\u001b[49m\u001b[43m \u001b[49m\u001b[43mdevice\u001b[49m\u001b[43m,\u001b[49m\u001b[43m \u001b[49m\u001b[43mdataloader_train\u001b[49m\u001b[43m,\u001b[49m\u001b[43m \u001b[49m\u001b[43mdataloader_validation\u001b[49m\u001b[43m,\u001b[49m\n\u001b[0;32m     43\u001b[0m \u001b[43m                              \u001b[49m\u001b[43moptimizer\u001b[49m\u001b[43m,\u001b[49m\u001b[43m \u001b[49m\u001b[43mhyper_parameters\u001b[49m\u001b[43m,\u001b[49m\u001b[43m \u001b[49m\u001b[43mlogger\u001b[49m\u001b[43m,\u001b[49m\u001b[43m \u001b[49m\u001b[43mscheduler\u001b[49m\u001b[43m,\u001b[49m\u001b[43m \u001b[49m\u001b[43mname\u001b[49m\u001b[38;5;241;43m=\u001b[39;49m\u001b[43mhyper_parameters\u001b[49m\u001b[43m[\u001b[49m\u001b[38;5;124;43m\"\u001b[39;49m\u001b[38;5;124;43mnetwork name\u001b[39;49m\u001b[38;5;124;43m\"\u001b[39;49m\u001b[43m]\u001b[49m\u001b[43m)\u001b[49m\n\u001b[0;32m     45\u001b[0m run_counter \u001b[38;5;241m+\u001b[39m\u001b[38;5;241m=\u001b[39m \u001b[38;5;241m1\u001b[39m\n\u001b[0;32m     47\u001b[0m \u001b[38;5;66;03m# Update best hyperparameters if the current model has better performance\u001b[39;00m\n",
      "Cell \u001b[1;32mIn[41], line 34\u001b[0m, in \u001b[0;36mtrain_and_validate_net\u001b[1;34m(model, loss_function, device, dataloader_train, dataloader_validation, optimizer, hyper_parameters, logger, scheduler, name)\u001b[0m\n\u001b[0;32m     31\u001b[0m optimizer\u001b[38;5;241m.\u001b[39mstep()\n\u001b[0;32m     33\u001b[0m \u001b[38;5;66;03m# Accumulate the loss and calculate the accuracy of predictions\u001b[39;00m\n\u001b[1;32m---> 34\u001b[0m training_loss \u001b[38;5;241m+\u001b[39m\u001b[38;5;241m=\u001b[39m \u001b[43mloss_train\u001b[49m\u001b[38;5;241;43m.\u001b[39;49m\u001b[43mitem\u001b[49m\u001b[43m(\u001b[49m\u001b[43m)\u001b[49m\n\u001b[0;32m     35\u001b[0m train_losses\u001b[38;5;241m.\u001b[39mappend(loss_train\u001b[38;5;241m.\u001b[39mitem())\n\u001b[0;32m     37\u001b[0m \u001b[38;5;66;03m# Uncomment to display images in tesnorboard\u001b[39;00m\n\u001b[0;32m     38\u001b[0m \u001b[38;5;66;03m# img_grid = make_grid(images)\u001b[39;00m\n\u001b[0;32m     39\u001b[0m \u001b[38;5;66;03m# logger.add_image(f\"{name}/batch images\", img_grid, epoch)\u001b[39;00m\n\u001b[0;32m     40\u001b[0m \n\u001b[0;32m     41\u001b[0m \u001b[38;5;66;03m# Add the model graph to tensorboard\u001b[39;00m\n",
      "\u001b[1;31mKeyboardInterrupt\u001b[0m: "
     ]
    }
   ],
   "source": [
    "# Create Datasets and Dataloaders\n",
    "dataset_train = MyDataset(root_directory=ROOT_DIRECTORY, mode=\"train\",\n",
    "                          transform=transform, split=hyper_parameters[\"split\"], pca=False)\n",
    "print(f\"Created a new Dataset for training of length: {len(dataset_train)}\")\n",
    "dataset_validation = MyDataset(root_directory=ROOT_DIRECTORY,\n",
    "                               mode=\"val\", transform=None, split=hyper_parameters[\"split\"], pca=False)\n",
    "print(f\"Created a new Dataset for validation of length: {\n",
    "      len(dataset_validation)}\\n\")\n",
    "\n",
    "loss_function = nn.CrossEntropyLoss()\n",
    "\n",
    "\n",
    "# Perform hyperparameter search\n",
    "all_combinations = create_combinations(hyperparameter_grid)\n",
    "# random_samples = sample_hyperparameters(hyperparameter_grid, 10)\n",
    "\n",
    "print(f\"Number of combinations: {\n",
    "      len(all_combinations)} (amount of models to test)\\n\\n\")\n",
    "best_hp = hyperparameter_search(\n",
    "    loss_function, DEVICE, dataset_train, dataset_validation, all_combinations, hyper_parameters)"
   ]
  },
  {
   "cell_type": "code",
   "execution_count": null,
   "metadata": {},
   "outputs": [
    {
     "name": "stdout",
     "output_type": "stream",
     "text": [
      "Best hyperparameters: {'learning rate': 0.0001, 'beta1': 0.9, 'beta2': 0.999, 'step size': 3, 'gamma': 0.8, 'batch size': 16, 'network name': 'MyNetwork', 'input channels': 3, 'number of classes': 5, 'split': {'train': 0.6, 'val': 0.2, 'test': 0.2}, 'number of workers': 0, 'epochs': 5, 'epsilon': 1e-08, 'weight decay': 1e-08}\n"
     ]
    }
   ],
   "source": [
    "print(f\"Best hyperparameters: {best_hp}\")"
   ]
  },
  {
   "cell_type": "code",
   "execution_count": null,
   "metadata": {},
   "outputs": [],
   "source": [
    "# {'learning rate': 0.0002, 'beta1': 0.9,\n",
    "#     'beta2': 0.999, 'step size': 10, 'gamma': 0.8}\n",
    "\n",
    "# {'learning rate': 0.0001, 'beta1': 0.9, 'beta2': 0.999, 'step size': 10, 'gamma': 0.9, 'input channels': 3, 'number of classes': 5, 'split': {'train': 0.6, 'val': 0.2, 'test': 0.2}, 'batch size': 32, 'number of workers': 0, 'epochs': 30, 'epsilon': 1e-08, 'weight decay': 1e-08}\n",
    "\n",
    "# {'learning rate': 0.0001, 'beta1': 0.9, 'beta2': 0.999, 'step size': 10, 'gamma': 0.8, 'input channels': 3, 'number of classes': 5, 'split': {'train': 0.6, 'val': 0.2, 'test': 0.2}, 'batch size': 32, 'number of workers': 0, 'epochs': 30, 'epsilon': 1e-08, 'weight decay': 1e-08"
   ]
  }
 ],
 "metadata": {
  "kernelspec": {
   "display_name": "TurbineModel",
   "language": "python",
   "name": "python3"
  },
  "language_info": {
   "codemirror_mode": {
    "name": "ipython",
    "version": 3
   },
   "file_extension": ".py",
   "mimetype": "text/x-python",
   "name": "python",
   "nbconvert_exporter": "python",
   "pygments_lexer": "ipython3",
   "version": "3.12.3"
  }
 },
 "nbformat": 4,
 "nbformat_minor": 2
}
